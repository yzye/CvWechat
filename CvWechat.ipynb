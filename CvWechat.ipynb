{
 "cells": [
  {
   "cell_type": "code",
   "execution_count": 2,
   "metadata": {},
   "outputs": [],
   "source": [
    "import numpy as np\n",
    "import pandas as pd\n",
    "import random as ra\n",
    "from collections import OrderedDict\n",
    "from datetime import datetime\n",
    "import time\n",
    "import warnings\n",
    "import threading"
   ]
  },
  {
   "cell_type": "code",
   "execution_count": 3,
   "metadata": {},
   "outputs": [
    {
     "name": "stdout",
     "output_type": "stream",
     "text": [
      "█\r"
     ]
    }
   ],
   "source": [
    "import itchat\n",
    "from WindPy import w"
   ]
  },
  {
   "cell_type": "code",
   "execution_count": 4,
   "metadata": {},
   "outputs": [],
   "source": [
    "def gen_stock2index(windcodes):\n",
    "    \n",
    "    stock2index = {}\n",
    "    for counter, ticker in enumerate(windcodes.split(',')):\n",
    "        stock2index[ticker] = counter\n",
    "        \n",
    "    return stock2index"
   ]
  },
  {
   "cell_type": "code",
   "execution_count": 5,
   "metadata": {},
   "outputs": [],
   "source": [
    "def gen_index2stock(windcodes):\n",
    "    \n",
    "    index2stock = {}\n",
    "    for counter, ticker in enumerate(windcodes.split(',')):\n",
    "        index2stock[counter] = ticker\n",
    "    \n",
    "    return index2stock"
   ]
  },
  {
   "cell_type": "code",
   "execution_count": 6,
   "metadata": {},
   "outputs": [],
   "source": [
    "def get_lastclose(windcodes, fields=\"close\"):\n",
    "\n",
    "    stock = np.array(w.wsd(codes=windcodes, fields=\"close\").Data[0])\n",
    "    stock[1::2] = 0\n",
    "    \n",
    "    cvbonds = np.array(w.wsd(codes=windcodes, fields=\"close\",Priceadj=\"DP\").Data[0])\n",
    "    cvbonds[::2] = 0\n",
    "    \n",
    "    return stock + cvbonds"
   ]
  },
  {
   "cell_type": "code",
   "execution_count": 7,
   "metadata": {},
   "outputs": [],
   "source": [
    "def get_rtlast(tickers):\n",
    "    output = w.wsq(codes=tickers, fields=\"rt_last\")\n",
    "    return np.array(output.Data[0])"
   ]
  },
  {
   "cell_type": "code",
   "execution_count": 8,
   "metadata": {},
   "outputs": [],
   "source": [
    "def gen_alert(lastclose, rt_close, threshold=0.03):\n",
    "    \n",
    "    rt_close[rt_close == 0] = 'nan'\n",
    "    \n",
    "    ratio = rt_close/lastclose\n",
    "    diff = ratio[1::2] - ratio[::2]\n",
    "    \n",
    "    states = (diff > threshold) + (diff < -threshold)\n",
    "    \n",
    "    #ratio = rt_close/lastclose\n",
    "    \n",
    "    return states, ratio"
   ]
  },
  {
   "cell_type": "code",
   "execution_count": 9,
   "metadata": {},
   "outputs": [],
   "source": [
    "stock2cvbond = {\"002916.SZ\":\"128088.SZ\",\"600105.SH\":\"110058.SH\",\"300168.SZ\":\"123021.SZ\",\n",
    "\"002391.SZ\":\"128055.SZ\",\"601211.SH\":\"113013.SH\",\"000876.SZ\":\"127015.SZ\",\"603019.SH\":\"113517.SH\",\n",
    "\"002002.SZ\":\"128085.SZ\",\"603636.SH\":\"113540.SH\",\"000070.SZ\":\"127008.SZ\",\"600831.SH\":\"733831.SH\",\n",
    "\"300059.SZ\":\"123006.SZ\",\"002368.SZ\":\"128078.SZ\",\"603738.SH\":\"113503.SH\",\"300545.SZ\":\"123038.SZ\",\n",
    "\"000783.SZ\":\"127005.SZ\",\"601878.SH\":\"113022.SH\",\"600567.SH\":\"110047.SH\",\"000665.SZ\":\"127007.SZ\",\n",
    "\"002460.SZ\":\"128028.SZ\",\"300088.SZ\":\"123022.SZ\",\"603688.SH\":\"113548.SH\",\"600728.SH\":\"110050.SH\",\n",
    "\"000700.SZ\":\"127004.SZ\",\"601985.SH\":\"113026.SH\",\"002131.SZ\":\"128038.SZ\",\"601137.SH\":\"113031.SH\",\n",
    "\"603876.SH\":\"113534.SH\",\"002455.SZ\":\"128093.SZ\",\"300497.SZ\":\"123020.SZ\",\"002497.SZ\":\"128065.SZ\",\n",
    "\"300655.SZ\":\"123031.SZ\",\"600233.SH\":\"110046.SH\",\"603305.SH\":\"113522.SH\",\"300003.SZ\":\"123040.SZ\",\n",
    "\"603626.SH\":\"113521.SH\",\"603901.SH\":\"113559.SH\",\"002352.SZ\":\"128080.SZ\",\"300618.SZ\":\"123017.SZ\",\n",
    "\"001965.SZ\":\"127012.SZ\",\"300568.SZ\":\"123009.SZ\"}"
   ]
  },
  {
   "cell_type": "code",
   "execution_count": 10,
   "metadata": {},
   "outputs": [],
   "source": [
    "order_stock2cvbond = OrderedDict(stock2cvbond)"
   ]
  },
  {
   "cell_type": "code",
   "execution_count": 11,
   "metadata": {},
   "outputs": [],
   "source": [
    "windcodes = str(stock2cvbond).replace('\\'','').replace(':',',').replace('{','').replace('}','').replace(' ','')"
   ]
  },
  {
   "cell_type": "code",
   "execution_count": 12,
   "metadata": {},
   "outputs": [],
   "source": [
    "stock2index = gen_stock2index(windcodes)\n",
    "index2stock = gen_index2stock(windcodes)"
   ]
  },
  {
   "cell_type": "code",
   "execution_count": 13,
   "metadata": {},
   "outputs": [
    {
     "name": "stdout",
     "output_type": "stream",
     "text": [
      "Welcome to use Wind Quant API for Python (WindPy)!\n",
      "\n",
      "COPYRIGHT (C) 2017 WIND INFORMATION CO., LTD. ALL RIGHTS RESERVED.\n",
      "IN NO CIRCUMSTANCE SHALL WIND BE RESPONSIBLE FOR ANY DAMAGES OR LOSSES CAUSED BY USING WIND QUANT API FOR Python.\n"
     ]
    },
    {
     "data": {
      "text/plain": [
       ".ErrorCode=0\n",
       ".Data=[OK!]"
      ]
     },
     "execution_count": 13,
     "metadata": {},
     "output_type": "execute_result"
    }
   ],
   "source": [
    "w.start()"
   ]
  },
  {
   "cell_type": "code",
   "execution_count": 16,
   "metadata": {},
   "outputs": [],
   "source": [
    "lastclose = get_lastclose(windcodes)"
   ]
  },
  {
   "cell_type": "code",
   "execution_count": 18,
   "metadata": {},
   "outputs": [],
   "source": [
    "rt_close = get_rtlast(windcodes)"
   ]
  },
  {
   "cell_type": "code",
   "execution_count": 19,
   "metadata": {},
   "outputs": [
    {
     "data": {
      "text/plain": [
       "array([224.88 , 161.19 ,   5.16 , 115.9  ,  22.02 , 161.25 ,   9.89 ,\n",
       "       136.825,  17.76 , 122.99 ,  29.29 , 150.95 ,  44.16 , 122.76 ,\n",
       "         4.4  , 119.061,  13.75 , 135.71 ,  11.02 , 206.3  ,   9.34 ,\n",
       "         0.   ,  17.89 ,   0.   ,  44.36 , 161.79 ,  27.69 , 165.87 ,\n",
       "        34.57 , 135.3  ,   7.02 , 122.62 ,  11.66 , 119.76 ,   3.42 ,\n",
       "       120.84 ,   6.6  , 125.297,  50.04 , 128.568,  10.34 , 178.2  ,\n",
       "        27.28 , 166.76 ,  10.01 , 134.   ,  13.05 , 179.96 ,   4.7  ,\n",
       "       107.32 ,   4.35 , 254.593,  13.28 , 131.18 ,  16.52 , 124.31 ,\n",
       "         5.53 , 115.907,  26.89 , 181.478,   9.19 , 122.582,  39.18 ,\n",
       "       213.11 ,  13.59 , 126.27 ,  41.83 ,   0.   ,  39.58 , 146.487,\n",
       "        12.65 , 145.5  ,  10.23 , 118.11 ,  47.51 , 138.392,  68.21 ,\n",
       "       137.603,   7.58 , 112.803,  38.72 , 157.02 ])"
      ]
     },
     "execution_count": 19,
     "metadata": {},
     "output_type": "execute_result"
    }
   ],
   "source": [
    "rt_close"
   ]
  },
  {
   "cell_type": "code",
   "execution_count": 21,
   "metadata": {},
   "outputs": [],
   "source": [
    "def send_msg():\n",
    "    try:   \n",
    "        #w.wsq(windcodes, fields=\"rt_last\", func=myCallback)\n",
    "        rt_close = get_rtlast(windcodes)\n",
    "        \n",
    "        states, ratio = gen_alert(lastclose, rt_close)\n",
    "        \n",
    "        t = '%s update' % str(datetime.now())\n",
    "        print(t)\n",
    "        itchat.send(t,toUserName)\n",
    "        \n",
    "        if sum(states) > 0:\n",
    "            \n",
    "            msg = \"\"\n",
    "            index_alert = np.where(states)\n",
    "\n",
    "            for i in index_alert[0]:\n",
    "\n",
    "                # del stock from dict\n",
    "                if index2stock[i*2] in stock2index:\n",
    "\n",
    "                    del stock2index[index2stock[i*2]]\n",
    "                    rt_close[i*2] = 0\n",
    "\n",
    "                if index2stock[i*2+1] in stock2index:\n",
    "\n",
    "                    del stock2index[index2stock[i*2+1]]\n",
    "                    rt_close[i*2+1] = 0\n",
    "\n",
    "                stock, cvbonds = list(order_stock2cvbond.items())[i]\n",
    "\n",
    "                stock_chg = \"%.2f%%\" % ((ratio[2*i]-1)*100) \n",
    "                cvbonds_chg = \"%.2f%%\" % ((ratio[2*i+1]-1)*100) \n",
    "                diff = \"%.2f%%;\\n\" % ((ratio[2*i]-ratio[2*i+1])*100)\n",
    "                \n",
    "                #msg = ('pay attention to:%s and %s,' % (stock, cvbonds)) \n",
    "                #msg2 = ('stock %s change is: %s,' % (stock, stock_chg))\n",
    "                #msg3 = ('cvbonds %s change is: %s,' % (cvbonds, cvbonds_chg))\n",
    "                \n",
    "                msg += stock + '(' + stock_chg + '),' + cvbonds + '(' + cvbonds_chg + '),' + 'diff:' + diff \n",
    "\n",
    "            msg2 = \"cvbonds up ratio:%.2f%%\" % (sum(ratio[1::2] > 1)/len(ratio[1::2])*100) \n",
    "            print(msg + msg2)\n",
    "            itchat.send(msg + msg2, toUserName)\n",
    "            \n",
    "        #time.sleep(120)\n",
    "            \n",
    "    except KeyboardInterrupt:\n",
    "        \n",
    "        itchat.send('Stock_WeChat 已执行完毕！\\n',toUserName)\n",
    "    \n",
    "    global timer\n",
    "    timer = threading.Timer(300, send_msg)\n",
    "    timer.start()"
   ]
  },
  {
   "cell_type": "code",
   "execution_count": 19,
   "metadata": {},
   "outputs": [
    {
     "name": "stderr",
     "output_type": "stream",
     "text": [
      "Getting uuid of QR code.\n",
      "Downloading QR code.\n",
      "Please scan the QR code to log in.\n",
      "Please press confirm on your phone.\n",
      "Loading the contact, this may take a little while.\n",
      "Login successfully as Jerry\n"
     ]
    }
   ],
   "source": [
    "itchat.auto_login(hotReload=True)"
   ]
  },
  {
   "cell_type": "code",
   "execution_count": 23,
   "metadata": {},
   "outputs": [],
   "source": [
    "users=itchat.search_chatrooms(name=u'cvbonds')"
   ]
  },
  {
   "cell_type": "code",
   "execution_count": 24,
   "metadata": {},
   "outputs": [],
   "source": [
    "toUserName= users[0]['UserName']"
   ]
  },
  {
   "cell_type": "code",
   "execution_count": 25,
   "metadata": {},
   "outputs": [
    {
     "data": {
      "text/plain": [
       "'@@b8496be050681beab8aade80fc9857a33053cf96b3364a9896eda71765297c60'"
      ]
     },
     "execution_count": 25,
     "metadata": {},
     "output_type": "execute_result"
    }
   ],
   "source": [
    "toUserName"
   ]
  },
  {
   "cell_type": "code",
   "execution_count": 26,
   "metadata": {},
   "outputs": [
    {
     "name": "stderr",
     "output_type": "stream",
     "text": [
      "c:\\apps\\miniconda3\\lib\\site-packages\\ipykernel_launcher.py:8: RuntimeWarning: invalid value encountered in greater\n",
      "  \n",
      "c:\\apps\\miniconda3\\lib\\site-packages\\ipykernel_launcher.py:8: RuntimeWarning: invalid value encountered in less\n",
      "  \n"
     ]
    },
    {
     "name": "stdout",
     "output_type": "stream",
     "text": [
      "2020-03-09 13:08:07.322880 update\n"
     ]
    },
    {
     "name": "stderr",
     "output_type": "stream",
     "text": [
      "c:\\apps\\miniconda3\\lib\\site-packages\\ipykernel_launcher.py:42: RuntimeWarning: invalid value encountered in greater\n"
     ]
    },
    {
     "name": "stdout",
     "output_type": "stream",
     "text": [
      "002368.SZ(-6.92%),128078.SZ(-1.95%),diff:-4.97%;\n",
      "603738.SH(-3.27%),113503.SH(-0.23%),diff:-3.04%;\n",
      "300545.SZ(-6.81%),123038.SZ(-3.23%),diff:-3.58%;\n",
      "600567.SH(-5.54%),110047.SH(-1.77%),diff:-3.77%;\n",
      "300088.SZ(-6.77%),123022.SZ(-2.95%),diff:-3.82%;\n",
      "000700.SZ(-4.54%),127004.SZ(2.50%),diff:-7.03%;\n",
      "002455.SZ(-3.50%),128093.SZ(-0.48%),diff:-3.02%;\n",
      "300568.SZ(10.00%),123009.SZ(19.46%),diff:-9.46%;\n",
      "cvbonds up ratio:17.07%\n"
     ]
    }
   ],
   "source": [
    "timer = threading.Timer(1, send_msg)\n",
    "timer.start()"
   ]
  },
  {
   "cell_type": "code",
   "execution_count": 22,
   "metadata": {},
   "outputs": [
    {
     "name": "stderr",
     "output_type": "stream",
     "text": [
      "Getting uuid of QR code.\n",
      "Downloading QR code.\n",
      "Please scan the QR code to log in.\n",
      "Please press confirm on your phone.\n",
      "Loading the contact, this may take a little while.\n",
      "Login successfully as Jerry\n"
     ]
    }
   ],
   "source": [
    "itchat.login()"
   ]
  },
  {
   "cell_type": "code",
   "execution_count": 27,
   "metadata": {},
   "outputs": [
    {
     "name": "stderr",
     "output_type": "stream",
     "text": [
      "Start auto replying.\n",
      "No uins in 51 message\n",
      "\n",
      "No uins in 51 message\n",
      "\n",
      "No uins in 51 message\n",
      "\n",
      "chatroom member fetch failed with @8ea1456c2a60703994edee59d7895688\n",
      "No uins in 51 message\n",
      "\n",
      "No uins in 51 message\n",
      "\n",
      "No uins in 51 message\n",
      "\n",
      "No uins in 51 message\n",
      "\n",
      "No uins in 51 message\n",
      "\n",
      "No uins in 51 message\n",
      "\n",
      "No uins in 51 message\n",
      "\n",
      "chatroom member fetch failed with @8ea1456c2a60703994edee59d7895688\n",
      "No uins in 51 message\n",
      "\n",
      "No uins in 51 message\n",
      "\n",
      "c:\\apps\\miniconda3\\lib\\site-packages\\ipykernel_launcher.py:8: RuntimeWarning: invalid value encountered in greater\n",
      "  \n",
      "c:\\apps\\miniconda3\\lib\\site-packages\\ipykernel_launcher.py:8: RuntimeWarning: invalid value encountered in less\n",
      "  \n",
      "Request to send a text message to @@b8496be050681beab8aade80fc9857a33053cf96b3364a9896eda71765297c60: 2020-03-09 13:13:08.456621 update\n"
     ]
    },
    {
     "name": "stdout",
     "output_type": "stream",
     "text": [
      "2020-03-09 13:13:08.456621 update\n"
     ]
    },
    {
     "name": "stderr",
     "output_type": "stream",
     "text": [
      "c:\\apps\\miniconda3\\lib\\site-packages\\ipykernel_launcher.py:42: RuntimeWarning: invalid value encountered in greater\n",
      "Request to send a text message to @@b8496be050681beab8aade80fc9857a33053cf96b3364a9896eda71765297c60: 000070.SZ(0.55%),127008.SZ(3.64%),diff:-3.09%;\n",
      "002368.SZ(-7.23%),128078.SZ(-2.06%),diff:-5.18%;\n",
      "603738.SH(-3.03%),113503.SH(0.22%),diff:-3.25%;\n",
      "300545.SZ(-6.46%),123038.SZ(-3.44%),diff:-3.02%;\n",
      "600567.SH(-5.26%),110047.SH(-1.88%),diff:-3.39%;\n",
      "000700.SZ(-4.02%),127004.SZ(3.36%),diff:-7.38%;\n",
      "300568.SZ(10.00%),123009.SZ(16.76%),diff:-6.76%;\n",
      "cvbonds up ratio:17.07%\n"
     ]
    },
    {
     "name": "stdout",
     "output_type": "stream",
     "text": [
      "000070.SZ(0.55%),127008.SZ(3.64%),diff:-3.09%;\n",
      "002368.SZ(-7.23%),128078.SZ(-2.06%),diff:-5.18%;\n",
      "603738.SH(-3.03%),113503.SH(0.22%),diff:-3.25%;\n",
      "300545.SZ(-6.46%),123038.SZ(-3.44%),diff:-3.02%;\n",
      "600567.SH(-5.26%),110047.SH(-1.88%),diff:-3.39%;\n",
      "000700.SZ(-4.02%),127004.SZ(3.36%),diff:-7.38%;\n",
      "300568.SZ(10.00%),123009.SZ(16.76%),diff:-6.76%;\n",
      "cvbonds up ratio:17.07%\n"
     ]
    },
    {
     "name": "stderr",
     "output_type": "stream",
     "text": [
      "chatroom member fetch failed with @8ea1456c2a60703994edee59d7895688\n",
      "No uins in 51 message\n",
      "\n",
      "No uins in 51 message\n",
      "\n",
      "Request to send a text message to @@b8496be050681beab8aade80fc9857a33053cf96b3364a9896eda71765297c60: 2020-03-09 13:18:12.858419 update\n"
     ]
    },
    {
     "name": "stdout",
     "output_type": "stream",
     "text": [
      "2020-03-09 13:18:12.858419 update\n"
     ]
    },
    {
     "name": "stderr",
     "output_type": "stream",
     "text": [
      "Request to send a text message to @@b8496be050681beab8aade80fc9857a33053cf96b3364a9896eda71765297c60: 000070.SZ(-0.37%),127008.SZ(3.74%),diff:-4.11%;\n",
      "002368.SZ(-7.93%),128078.SZ(-2.90%),diff:-5.03%;\n",
      "603738.SH(-3.91%),113503.SH(-0.51%),diff:-3.40%;\n",
      "300545.SZ(-7.10%),123038.SZ(-3.41%),diff:-3.70%;\n",
      "600567.SH(-5.82%),110047.SH(-2.17%),diff:-3.65%;\n",
      "000700.SZ(-5.27%),127004.SZ(2.61%),diff:-7.88%;\n",
      "002455.SZ(-4.03%),128093.SZ(-0.66%),diff:-3.37%;\n",
      "300568.SZ(10.00%),123009.SZ(17.14%),diff:-7.14%;\n",
      "cvbonds up ratio:12.20%\n"
     ]
    },
    {
     "name": "stdout",
     "output_type": "stream",
     "text": [
      "000070.SZ(-0.37%),127008.SZ(3.74%),diff:-4.11%;\n",
      "002368.SZ(-7.93%),128078.SZ(-2.90%),diff:-5.03%;\n",
      "603738.SH(-3.91%),113503.SH(-0.51%),diff:-3.40%;\n",
      "300545.SZ(-7.10%),123038.SZ(-3.41%),diff:-3.70%;\n",
      "600567.SH(-5.82%),110047.SH(-2.17%),diff:-3.65%;\n",
      "000700.SZ(-5.27%),127004.SZ(2.61%),diff:-7.88%;\n",
      "002455.SZ(-4.03%),128093.SZ(-0.66%),diff:-3.37%;\n",
      "300568.SZ(10.00%),123009.SZ(17.14%),diff:-7.14%;\n",
      "cvbonds up ratio:12.20%\n"
     ]
    },
    {
     "name": "stderr",
     "output_type": "stream",
     "text": [
      "No uins in 51 message\n",
      "\n",
      "Traceback (most recent call last):\n",
      "  File \"c:\\apps\\miniconda3\\lib\\site-packages\\urllib3\\connection.py\", line 159, in _new_conn\n",
      "    (self._dns_host, self.port), self.timeout, **extra_kw)\n",
      "  File \"c:\\apps\\miniconda3\\lib\\site-packages\\urllib3\\util\\connection.py\", line 80, in create_connection\n",
      "    raise err\n",
      "  File \"c:\\apps\\miniconda3\\lib\\site-packages\\urllib3\\util\\connection.py\", line 70, in create_connection\n",
      "    sock.connect(sa)\n",
      "socket.timeout: timed out\n",
      "\n",
      "During handling of the above exception, another exception occurred:\n",
      "\n",
      "Traceback (most recent call last):\n",
      "  File \"c:\\apps\\miniconda3\\lib\\site-packages\\urllib3\\connectionpool.py\", line 600, in urlopen\n",
      "    chunked=chunked)\n",
      "  File \"c:\\apps\\miniconda3\\lib\\site-packages\\urllib3\\connectionpool.py\", line 343, in _make_request\n",
      "    self._validate_conn(conn)\n",
      "  File \"c:\\apps\\miniconda3\\lib\\site-packages\\urllib3\\connectionpool.py\", line 839, in _validate_conn\n",
      "    conn.connect()\n",
      "  File \"c:\\apps\\miniconda3\\lib\\site-packages\\urllib3\\connection.py\", line 301, in connect\n",
      "    conn = self._new_conn()\n",
      "  File \"c:\\apps\\miniconda3\\lib\\site-packages\\urllib3\\connection.py\", line 164, in _new_conn\n",
      "    (self.host, self.timeout))\n",
      "urllib3.exceptions.ConnectTimeoutError: (<urllib3.connection.VerifiedHTTPSConnection object at 0x000000000FB72358>, 'Connection to wx.qq.com timed out. (connect timeout=10)')\n",
      "\n",
      "During handling of the above exception, another exception occurred:\n",
      "\n",
      "Traceback (most recent call last):\n",
      "  File \"c:\\apps\\miniconda3\\lib\\site-packages\\requests\\adapters.py\", line 449, in send\n",
      "    timeout=timeout\n",
      "  File \"c:\\apps\\miniconda3\\lib\\site-packages\\urllib3\\connectionpool.py\", line 638, in urlopen\n",
      "    _stacktrace=sys.exc_info()[2])\n",
      "  File \"c:\\apps\\miniconda3\\lib\\site-packages\\urllib3\\util\\retry.py\", line 399, in increment\n",
      "    raise MaxRetryError(_pool, url, error or ResponseError(cause))\n",
      "urllib3.exceptions.MaxRetryError: HTTPSConnectionPool(host='wx.qq.com', port=443): Max retries exceeded with url: /cgi-bin/mmwebwx-bin/webwxsync?sid=nmXC/0zD8z166RUZ&skey=@crypt_96d9e030_1f9a878f88efdb6fd54bfa029a97f6e3&pass_ticket=FrLHRaCicERkNhB73VspCnfjvkARYko92icEQYL0uqc%3D (Caused by ConnectTimeoutError(<urllib3.connection.VerifiedHTTPSConnection object at 0x000000000FB72358>, 'Connection to wx.qq.com timed out. (connect timeout=10)'))\n",
      "\n",
      "During handling of the above exception, another exception occurred:\n",
      "\n",
      "Traceback (most recent call last):\n",
      "  File \"c:\\apps\\miniconda3\\lib\\site-packages\\itchat\\components\\login.py\", line 253, in maintain_loop\n",
      "    msgList, contactList = self.get_msg()\n",
      "  File \"c:\\apps\\miniconda3\\lib\\site-packages\\itchat\\components\\login.py\", line 334, in get_msg\n",
      "    r = self.s.post(url, data=json.dumps(data), headers=headers, timeout=config.TIMEOUT)\n",
      "  File \"c:\\apps\\miniconda3\\lib\\site-packages\\requests\\sessions.py\", line 581, in post\n",
      "    return self.request('POST', url, data=data, json=json, **kwargs)\n",
      "  File \"c:\\apps\\miniconda3\\lib\\site-packages\\requests\\sessions.py\", line 533, in request\n",
      "    resp = self.send(prep, **send_kwargs)\n",
      "  File \"c:\\apps\\miniconda3\\lib\\site-packages\\requests\\sessions.py\", line 646, in send\n",
      "    r = adapter.send(request, **kwargs)\n",
      "  File \"c:\\apps\\miniconda3\\lib\\site-packages\\requests\\adapters.py\", line 504, in send\n",
      "    raise ConnectTimeout(e, request=request)\n",
      "requests.exceptions.ConnectTimeout: HTTPSConnectionPool(host='wx.qq.com', port=443): Max retries exceeded with url: /cgi-bin/mmwebwx-bin/webwxsync?sid=nmXC/0zD8z166RUZ&skey=@crypt_96d9e030_1f9a878f88efdb6fd54bfa029a97f6e3&pass_ticket=FrLHRaCicERkNhB73VspCnfjvkARYko92icEQYL0uqc%3D (Caused by ConnectTimeoutError(<urllib3.connection.VerifiedHTTPSConnection object at 0x000000000FB72358>, 'Connection to wx.qq.com timed out. (connect timeout=10)'))\n",
      "\n",
      "Request to send a text message to @@b8496be050681beab8aade80fc9857a33053cf96b3364a9896eda71765297c60: 2020-03-09 13:23:13.980613 update\n"
     ]
    },
    {
     "name": "stdout",
     "output_type": "stream",
     "text": [
      "2020-03-09 13:23:13.980613 update\n"
     ]
    },
    {
     "name": "stderr",
     "output_type": "stream",
     "text": [
      "Request to send a text message to @@b8496be050681beab8aade80fc9857a33053cf96b3364a9896eda71765297c60: 000070.SZ(-0.18%),127008.SZ(3.65%),diff:-3.83%;\n",
      "002368.SZ(-7.61%),128078.SZ(-3.03%),diff:-4.58%;\n",
      "603738.SH(-3.73%),113503.SH(-0.57%),diff:-3.16%;\n",
      "300545.SZ(-7.67%),123038.SZ(-4.31%),diff:-3.36%;\n",
      "600567.SH(-5.82%),110047.SH(-2.41%),diff:-3.41%;\n",
      "000700.SZ(-5.63%),127004.SZ(1.95%),diff:-7.59%;\n",
      "002455.SZ(-4.38%),128093.SZ(-0.52%),diff:-3.86%;\n",
      "300568.SZ(10.00%),123009.SZ(18.85%),diff:-8.85%;\n",
      "cvbonds up ratio:12.20%\n"
     ]
    },
    {
     "name": "stdout",
     "output_type": "stream",
     "text": [
      "000070.SZ(-0.18%),127008.SZ(3.65%),diff:-3.83%;\n",
      "002368.SZ(-7.61%),128078.SZ(-3.03%),diff:-4.58%;\n",
      "603738.SH(-3.73%),113503.SH(-0.57%),diff:-3.16%;\n",
      "300545.SZ(-7.67%),123038.SZ(-4.31%),diff:-3.36%;\n",
      "600567.SH(-5.82%),110047.SH(-2.41%),diff:-3.41%;\n",
      "000700.SZ(-5.63%),127004.SZ(1.95%),diff:-7.59%;\n",
      "002455.SZ(-4.38%),128093.SZ(-0.52%),diff:-3.86%;\n",
      "300568.SZ(10.00%),123009.SZ(18.85%),diff:-8.85%;\n",
      "cvbonds up ratio:12.20%\n"
     ]
    },
    {
     "name": "stderr",
     "output_type": "stream",
     "text": [
      "No uins in 51 message\n",
      "\n",
      "chatroom member fetch failed with @8ea1456c2a60703994edee59d7895688\n",
      "No uins in 51 message\n",
      "\n",
      "Request to send a text message to @@b8496be050681beab8aade80fc9857a33053cf96b3364a9896eda71765297c60: 2020-03-09 13:28:17.455221 update\n"
     ]
    },
    {
     "name": "stdout",
     "output_type": "stream",
     "text": [
      "2020-03-09 13:28:17.455221 update\n"
     ]
    },
    {
     "name": "stderr",
     "output_type": "stream",
     "text": [
      "Request to send a text message to @@b8496be050681beab8aade80fc9857a33053cf96b3364a9896eda71765297c60: 000070.SZ(0.55%),127008.SZ(3.64%),diff:-3.09%;\n",
      "002368.SZ(-7.26%),128078.SZ(-4.06%),diff:-3.19%;\n",
      "300545.SZ(-7.08%),123038.SZ(-3.49%),diff:-3.58%;\n",
      "600567.SH(-5.26%),110047.SH(-2.14%),diff:-3.13%;\n",
      "000665.SZ(-6.00%),127007.SZ(-2.91%),diff:-3.09%;\n",
      "000700.SZ(-5.49%),127004.SZ(2.33%),diff:-7.81%;\n",
      "002455.SZ(-3.68%),128093.SZ(-0.57%),diff:-3.11%;\n",
      "300568.SZ(10.00%),123009.SZ(18.67%),diff:-8.67%;\n",
      "cvbonds up ratio:12.20%\n"
     ]
    },
    {
     "name": "stdout",
     "output_type": "stream",
     "text": [
      "000070.SZ(0.55%),127008.SZ(3.64%),diff:-3.09%;\n",
      "002368.SZ(-7.26%),128078.SZ(-4.06%),diff:-3.19%;\n",
      "300545.SZ(-7.08%),123038.SZ(-3.49%),diff:-3.58%;\n",
      "600567.SH(-5.26%),110047.SH(-2.14%),diff:-3.13%;\n",
      "000665.SZ(-6.00%),127007.SZ(-2.91%),diff:-3.09%;\n",
      "000700.SZ(-5.49%),127004.SZ(2.33%),diff:-7.81%;\n",
      "002455.SZ(-3.68%),128093.SZ(-0.57%),diff:-3.11%;\n",
      "300568.SZ(10.00%),123009.SZ(18.67%),diff:-8.67%;\n",
      "cvbonds up ratio:12.20%\n"
     ]
    },
    {
     "name": "stderr",
     "output_type": "stream",
     "text": [
      "Traceback (most recent call last):\n",
      "  File \"c:\\apps\\miniconda3\\lib\\site-packages\\urllib3\\connection.py\", line 159, in _new_conn\n",
      "    (self._dns_host, self.port), self.timeout, **extra_kw)\n",
      "  File \"c:\\apps\\miniconda3\\lib\\site-packages\\urllib3\\util\\connection.py\", line 80, in create_connection\n",
      "    raise err\n",
      "  File \"c:\\apps\\miniconda3\\lib\\site-packages\\urllib3\\util\\connection.py\", line 70, in create_connection\n",
      "    sock.connect(sa)\n",
      "socket.timeout: timed out\n",
      "\n",
      "During handling of the above exception, another exception occurred:\n",
      "\n",
      "Traceback (most recent call last):\n",
      "  File \"c:\\apps\\miniconda3\\lib\\site-packages\\urllib3\\connectionpool.py\", line 600, in urlopen\n",
      "    chunked=chunked)\n",
      "  File \"c:\\apps\\miniconda3\\lib\\site-packages\\urllib3\\connectionpool.py\", line 343, in _make_request\n",
      "    self._validate_conn(conn)\n",
      "  File \"c:\\apps\\miniconda3\\lib\\site-packages\\urllib3\\connectionpool.py\", line 839, in _validate_conn\n",
      "    conn.connect()\n",
      "  File \"c:\\apps\\miniconda3\\lib\\site-packages\\urllib3\\connection.py\", line 301, in connect\n",
      "    conn = self._new_conn()\n",
      "  File \"c:\\apps\\miniconda3\\lib\\site-packages\\urllib3\\connection.py\", line 164, in _new_conn\n",
      "    (self.host, self.timeout))\n",
      "urllib3.exceptions.ConnectTimeoutError: (<urllib3.connection.VerifiedHTTPSConnection object at 0x000000000FB9F940>, 'Connection to wx.qq.com timed out. (connect timeout=10)')\n",
      "\n",
      "During handling of the above exception, another exception occurred:\n",
      "\n",
      "Traceback (most recent call last):\n",
      "  File \"c:\\apps\\miniconda3\\lib\\site-packages\\requests\\adapters.py\", line 449, in send\n",
      "    timeout=timeout\n",
      "  File \"c:\\apps\\miniconda3\\lib\\site-packages\\urllib3\\connectionpool.py\", line 638, in urlopen\n",
      "    _stacktrace=sys.exc_info()[2])\n",
      "  File \"c:\\apps\\miniconda3\\lib\\site-packages\\urllib3\\util\\retry.py\", line 399, in increment\n",
      "    raise MaxRetryError(_pool, url, error or ResponseError(cause))\n",
      "urllib3.exceptions.MaxRetryError: HTTPSConnectionPool(host='wx.qq.com', port=443): Max retries exceeded with url: /cgi-bin/mmwebwx-bin/webwxsync?sid=nmXC/0zD8z166RUZ&skey=@crypt_96d9e030_1f9a878f88efdb6fd54bfa029a97f6e3&pass_ticket=FrLHRaCicERkNhB73VspCnfjvkARYko92icEQYL0uqc%3D (Caused by ConnectTimeoutError(<urllib3.connection.VerifiedHTTPSConnection object at 0x000000000FB9F940>, 'Connection to wx.qq.com timed out. (connect timeout=10)'))\n",
      "\n",
      "During handling of the above exception, another exception occurred:\n",
      "\n",
      "Traceback (most recent call last):\n",
      "  File \"c:\\apps\\miniconda3\\lib\\site-packages\\itchat\\components\\login.py\", line 253, in maintain_loop\n",
      "    msgList, contactList = self.get_msg()\n",
      "  File \"c:\\apps\\miniconda3\\lib\\site-packages\\itchat\\components\\login.py\", line 334, in get_msg\n",
      "    r = self.s.post(url, data=json.dumps(data), headers=headers, timeout=config.TIMEOUT)\n",
      "  File \"c:\\apps\\miniconda3\\lib\\site-packages\\requests\\sessions.py\", line 581, in post\n",
      "    return self.request('POST', url, data=data, json=json, **kwargs)\n",
      "  File \"c:\\apps\\miniconda3\\lib\\site-packages\\requests\\sessions.py\", line 533, in request\n",
      "    resp = self.send(prep, **send_kwargs)\n",
      "  File \"c:\\apps\\miniconda3\\lib\\site-packages\\requests\\sessions.py\", line 646, in send\n",
      "    r = adapter.send(request, **kwargs)\n",
      "  File \"c:\\apps\\miniconda3\\lib\\site-packages\\requests\\adapters.py\", line 504, in send\n",
      "    raise ConnectTimeout(e, request=request)\n",
      "requests.exceptions.ConnectTimeout: HTTPSConnectionPool(host='wx.qq.com', port=443): Max retries exceeded with url: /cgi-bin/mmwebwx-bin/webwxsync?sid=nmXC/0zD8z166RUZ&skey=@crypt_96d9e030_1f9a878f88efdb6fd54bfa029a97f6e3&pass_ticket=FrLHRaCicERkNhB73VspCnfjvkARYko92icEQYL0uqc%3D (Caused by ConnectTimeoutError(<urllib3.connection.VerifiedHTTPSConnection object at 0x000000000FB9F940>, 'Connection to wx.qq.com timed out. (connect timeout=10)'))\n",
      "\n",
      "No uins in 51 message\n",
      "\n",
      "chatroom member fetch failed with @8ea1456c2a60703994edee59d7895688\n",
      "No uins in 51 message\n",
      "\n",
      "Request to send a text message to @@b8496be050681beab8aade80fc9857a33053cf96b3364a9896eda71765297c60: 2020-03-09 13:33:22.448746 update\n"
     ]
    },
    {
     "name": "stdout",
     "output_type": "stream",
     "text": [
      "2020-03-09 13:33:22.448746 update\n"
     ]
    },
    {
     "name": "stderr",
     "output_type": "stream",
     "text": [
      "Request to send a text message to @@b8496be050681beab8aade80fc9857a33053cf96b3364a9896eda71765297c60: 000070.SZ(0.18%),127008.SZ(3.67%),diff:-3.49%;\n",
      "002368.SZ(-7.57%),128078.SZ(-4.04%),diff:-3.53%;\n",
      "603738.SH(-4.08%),113503.SH(-0.73%),diff:-3.36%;\n",
      "300545.SZ(-7.62%),123038.SZ(-4.02%),diff:-3.60%;\n",
      "600567.SH(-5.54%),110047.SH(-2.37%),diff:-3.17%;\n",
      "000665.SZ(-6.43%),127007.SZ(-3.12%),diff:-3.31%;\n",
      "000700.SZ(-4.90%),127004.SZ(2.44%),diff:-7.34%;\n",
      "002455.SZ(-4.03%),128093.SZ(-0.45%),diff:-3.58%;\n",
      "300568.SZ(10.00%),123009.SZ(18.15%),diff:-8.15%;\n",
      "cvbonds up ratio:12.20%\n"
     ]
    },
    {
     "name": "stdout",
     "output_type": "stream",
     "text": [
      "000070.SZ(0.18%),127008.SZ(3.67%),diff:-3.49%;\n",
      "002368.SZ(-7.57%),128078.SZ(-4.04%),diff:-3.53%;\n",
      "603738.SH(-4.08%),113503.SH(-0.73%),diff:-3.36%;\n",
      "300545.SZ(-7.62%),123038.SZ(-4.02%),diff:-3.60%;\n",
      "600567.SH(-5.54%),110047.SH(-2.37%),diff:-3.17%;\n",
      "000665.SZ(-6.43%),127007.SZ(-3.12%),diff:-3.31%;\n",
      "000700.SZ(-4.90%),127004.SZ(2.44%),diff:-7.34%;\n",
      "002455.SZ(-4.03%),128093.SZ(-0.45%),diff:-3.58%;\n",
      "300568.SZ(10.00%),123009.SZ(18.15%),diff:-8.15%;\n",
      "cvbonds up ratio:12.20%\n"
     ]
    },
    {
     "name": "stderr",
     "output_type": "stream",
     "text": [
      "No uins in 51 message\n",
      "\n",
      "No uins in 51 message\n",
      "\n",
      "Request to send a text message to @@b8496be050681beab8aade80fc9857a33053cf96b3364a9896eda71765297c60: 2020-03-09 13:38:26.746499 update\n"
     ]
    },
    {
     "name": "stdout",
     "output_type": "stream",
     "text": [
      "2020-03-09 13:38:26.746499 update\n"
     ]
    },
    {
     "name": "stderr",
     "output_type": "stream",
     "text": [
      "Request to send a text message to @@b8496be050681beab8aade80fc9857a33053cf96b3364a9896eda71765297c60: 000876.SZ(3.17%),127015.SZ(0.12%),diff:3.05%;\n",
      "300545.SZ(-6.83%),123038.SZ(-3.70%),diff:-3.13%;\n",
      "000700.SZ(-3.88%),127004.SZ(3.16%),diff:-7.03%;\n",
      "002455.SZ(-3.68%),128093.SZ(-0.45%),diff:-3.22%;\n",
      "300568.SZ(10.00%),123009.SZ(18.60%),diff:-8.60%;\n",
      "cvbonds up ratio:12.20%\n"
     ]
    },
    {
     "name": "stdout",
     "output_type": "stream",
     "text": [
      "000876.SZ(3.17%),127015.SZ(0.12%),diff:3.05%;\n",
      "300545.SZ(-6.83%),123038.SZ(-3.70%),diff:-3.13%;\n",
      "000700.SZ(-3.88%),127004.SZ(3.16%),diff:-7.03%;\n",
      "002455.SZ(-3.68%),128093.SZ(-0.45%),diff:-3.22%;\n",
      "300568.SZ(10.00%),123009.SZ(18.60%),diff:-8.60%;\n",
      "cvbonds up ratio:12.20%\n"
     ]
    },
    {
     "name": "stderr",
     "output_type": "stream",
     "text": [
      "Traceback (most recent call last):\n",
      "  File \"c:\\apps\\miniconda3\\lib\\site-packages\\urllib3\\connection.py\", line 159, in _new_conn\n",
      "    (self._dns_host, self.port), self.timeout, **extra_kw)\n",
      "  File \"c:\\apps\\miniconda3\\lib\\site-packages\\urllib3\\util\\connection.py\", line 80, in create_connection\n",
      "    raise err\n",
      "  File \"c:\\apps\\miniconda3\\lib\\site-packages\\urllib3\\util\\connection.py\", line 70, in create_connection\n",
      "    sock.connect(sa)\n",
      "socket.timeout: timed out\n",
      "\n",
      "During handling of the above exception, another exception occurred:\n",
      "\n",
      "Traceback (most recent call last):\n",
      "  File \"c:\\apps\\miniconda3\\lib\\site-packages\\urllib3\\connectionpool.py\", line 600, in urlopen\n",
      "    chunked=chunked)\n",
      "  File \"c:\\apps\\miniconda3\\lib\\site-packages\\urllib3\\connectionpool.py\", line 343, in _make_request\n",
      "    self._validate_conn(conn)\n",
      "  File \"c:\\apps\\miniconda3\\lib\\site-packages\\urllib3\\connectionpool.py\", line 839, in _validate_conn\n",
      "    conn.connect()\n",
      "  File \"c:\\apps\\miniconda3\\lib\\site-packages\\urllib3\\connection.py\", line 301, in connect\n",
      "    conn = self._new_conn()\n",
      "  File \"c:\\apps\\miniconda3\\lib\\site-packages\\urllib3\\connection.py\", line 164, in _new_conn\n",
      "    (self.host, self.timeout))\n",
      "urllib3.exceptions.ConnectTimeoutError: (<urllib3.connection.VerifiedHTTPSConnection object at 0x000000000FB72CC0>, 'Connection to wx.qq.com timed out. (connect timeout=10)')\n",
      "\n",
      "During handling of the above exception, another exception occurred:\n",
      "\n",
      "Traceback (most recent call last):\n",
      "  File \"c:\\apps\\miniconda3\\lib\\site-packages\\requests\\adapters.py\", line 449, in send\n",
      "    timeout=timeout\n",
      "  File \"c:\\apps\\miniconda3\\lib\\site-packages\\urllib3\\connectionpool.py\", line 638, in urlopen\n",
      "    _stacktrace=sys.exc_info()[2])\n",
      "  File \"c:\\apps\\miniconda3\\lib\\site-packages\\urllib3\\util\\retry.py\", line 399, in increment\n",
      "    raise MaxRetryError(_pool, url, error or ResponseError(cause))\n",
      "urllib3.exceptions.MaxRetryError: HTTPSConnectionPool(host='wx.qq.com', port=443): Max retries exceeded with url: /cgi-bin/mmwebwx-bin/webwxsync?sid=nmXC/0zD8z166RUZ&skey=@crypt_96d9e030_1f9a878f88efdb6fd54bfa029a97f6e3&pass_ticket=FrLHRaCicERkNhB73VspCnfjvkARYko92icEQYL0uqc%3D (Caused by ConnectTimeoutError(<urllib3.connection.VerifiedHTTPSConnection object at 0x000000000FB72CC0>, 'Connection to wx.qq.com timed out. (connect timeout=10)'))\n",
      "\n",
      "During handling of the above exception, another exception occurred:\n",
      "\n",
      "Traceback (most recent call last):\n",
      "  File \"c:\\apps\\miniconda3\\lib\\site-packages\\itchat\\components\\login.py\", line 253, in maintain_loop\n",
      "    msgList, contactList = self.get_msg()\n",
      "  File \"c:\\apps\\miniconda3\\lib\\site-packages\\itchat\\components\\login.py\", line 334, in get_msg\n",
      "    r = self.s.post(url, data=json.dumps(data), headers=headers, timeout=config.TIMEOUT)\n",
      "  File \"c:\\apps\\miniconda3\\lib\\site-packages\\requests\\sessions.py\", line 581, in post\n",
      "    return self.request('POST', url, data=data, json=json, **kwargs)\n",
      "  File \"c:\\apps\\miniconda3\\lib\\site-packages\\requests\\sessions.py\", line 533, in request\n",
      "    resp = self.send(prep, **send_kwargs)\n",
      "  File \"c:\\apps\\miniconda3\\lib\\site-packages\\requests\\sessions.py\", line 646, in send\n",
      "    r = adapter.send(request, **kwargs)\n",
      "  File \"c:\\apps\\miniconda3\\lib\\site-packages\\requests\\adapters.py\", line 504, in send\n",
      "    raise ConnectTimeout(e, request=request)\n",
      "requests.exceptions.ConnectTimeout: HTTPSConnectionPool(host='wx.qq.com', port=443): Max retries exceeded with url: /cgi-bin/mmwebwx-bin/webwxsync?sid=nmXC/0zD8z166RUZ&skey=@crypt_96d9e030_1f9a878f88efdb6fd54bfa029a97f6e3&pass_ticket=FrLHRaCicERkNhB73VspCnfjvkARYko92icEQYL0uqc%3D (Caused by ConnectTimeoutError(<urllib3.connection.VerifiedHTTPSConnection object at 0x000000000FB72CC0>, 'Connection to wx.qq.com timed out. (connect timeout=10)'))\n",
      "\n",
      "No uins in 51 message\n",
      "\n",
      "Traceback (most recent call last):\n",
      "  File \"c:\\apps\\miniconda3\\lib\\site-packages\\urllib3\\connection.py\", line 159, in _new_conn\n",
      "    (self._dns_host, self.port), self.timeout, **extra_kw)\n",
      "  File \"c:\\apps\\miniconda3\\lib\\site-packages\\urllib3\\util\\connection.py\", line 80, in create_connection\n",
      "    raise err\n",
      "  File \"c:\\apps\\miniconda3\\lib\\site-packages\\urllib3\\util\\connection.py\", line 70, in create_connection\n",
      "    sock.connect(sa)\n",
      "socket.timeout: timed out\n",
      "\n",
      "During handling of the above exception, another exception occurred:\n",
      "\n",
      "Traceback (most recent call last):\n",
      "  File \"c:\\apps\\miniconda3\\lib\\site-packages\\urllib3\\connectionpool.py\", line 600, in urlopen\n",
      "    chunked=chunked)\n",
      "  File \"c:\\apps\\miniconda3\\lib\\site-packages\\urllib3\\connectionpool.py\", line 343, in _make_request\n",
      "    self._validate_conn(conn)\n",
      "  File \"c:\\apps\\miniconda3\\lib\\site-packages\\urllib3\\connectionpool.py\", line 839, in _validate_conn\n",
      "    conn.connect()\n",
      "  File \"c:\\apps\\miniconda3\\lib\\site-packages\\urllib3\\connection.py\", line 301, in connect\n",
      "    conn = self._new_conn()\n",
      "  File \"c:\\apps\\miniconda3\\lib\\site-packages\\urllib3\\connection.py\", line 164, in _new_conn\n",
      "    (self.host, self.timeout))\n",
      "urllib3.exceptions.ConnectTimeoutError: (<urllib3.connection.VerifiedHTTPSConnection object at 0x0000000014EE84A8>, 'Connection to wx.qq.com timed out. (connect timeout=10)')\n",
      "\n",
      "During handling of the above exception, another exception occurred:\n",
      "\n",
      "Traceback (most recent call last):\n",
      "  File \"c:\\apps\\miniconda3\\lib\\site-packages\\requests\\adapters.py\", line 449, in send\n",
      "    timeout=timeout\n",
      "  File \"c:\\apps\\miniconda3\\lib\\site-packages\\urllib3\\connectionpool.py\", line 638, in urlopen\n",
      "    _stacktrace=sys.exc_info()[2])\n",
      "  File \"c:\\apps\\miniconda3\\lib\\site-packages\\urllib3\\util\\retry.py\", line 399, in increment\n",
      "    raise MaxRetryError(_pool, url, error or ResponseError(cause))\n",
      "urllib3.exceptions.MaxRetryError: HTTPSConnectionPool(host='wx.qq.com', port=443): Max retries exceeded with url: /cgi-bin/mmwebwx-bin/webwxsync?sid=nmXC/0zD8z166RUZ&skey=@crypt_96d9e030_1f9a878f88efdb6fd54bfa029a97f6e3&pass_ticket=FrLHRaCicERkNhB73VspCnfjvkARYko92icEQYL0uqc%3D (Caused by ConnectTimeoutError(<urllib3.connection.VerifiedHTTPSConnection object at 0x0000000014EE84A8>, 'Connection to wx.qq.com timed out. (connect timeout=10)'))\n",
      "\n",
      "During handling of the above exception, another exception occurred:\n",
      "\n",
      "Traceback (most recent call last):\n",
      "  File \"c:\\apps\\miniconda3\\lib\\site-packages\\itchat\\components\\login.py\", line 253, in maintain_loop\n",
      "    msgList, contactList = self.get_msg()\n",
      "  File \"c:\\apps\\miniconda3\\lib\\site-packages\\itchat\\components\\login.py\", line 334, in get_msg\n",
      "    r = self.s.post(url, data=json.dumps(data), headers=headers, timeout=config.TIMEOUT)\n",
      "  File \"c:\\apps\\miniconda3\\lib\\site-packages\\requests\\sessions.py\", line 581, in post\n",
      "    return self.request('POST', url, data=data, json=json, **kwargs)\n",
      "  File \"c:\\apps\\miniconda3\\lib\\site-packages\\requests\\sessions.py\", line 533, in request\n",
      "    resp = self.send(prep, **send_kwargs)\n",
      "  File \"c:\\apps\\miniconda3\\lib\\site-packages\\requests\\sessions.py\", line 646, in send\n",
      "    r = adapter.send(request, **kwargs)\n",
      "  File \"c:\\apps\\miniconda3\\lib\\site-packages\\requests\\adapters.py\", line 504, in send\n",
      "    raise ConnectTimeout(e, request=request)\n",
      "requests.exceptions.ConnectTimeout: HTTPSConnectionPool(host='wx.qq.com', port=443): Max retries exceeded with url: /cgi-bin/mmwebwx-bin/webwxsync?sid=nmXC/0zD8z166RUZ&skey=@crypt_96d9e030_1f9a878f88efdb6fd54bfa029a97f6e3&pass_ticket=FrLHRaCicERkNhB73VspCnfjvkARYko92icEQYL0uqc%3D (Caused by ConnectTimeoutError(<urllib3.connection.VerifiedHTTPSConnection object at 0x0000000014EE84A8>, 'Connection to wx.qq.com timed out. (connect timeout=10)'))\n",
      "\n",
      "chatroom member fetch failed with @8ea1456c2a60703994edee59d7895688\n",
      "No uins in 51 message\n",
      "\n",
      "chatroom member fetch failed with @8ea1456c2a60703994edee59d7895688\n",
      "No uins in 51 message\n",
      "\n",
      "chatroom member fetch failed with @8ea1456c2a60703994edee59d7895688\n",
      "No uins in 51 message\n",
      "\n",
      "Request to send a text message to @@b8496be050681beab8aade80fc9857a33053cf96b3364a9896eda71765297c60: 2020-03-09 13:43:27.838695 update\n"
     ]
    },
    {
     "name": "stdout",
     "output_type": "stream",
     "text": [
      "2020-03-09 13:43:27.838695 update\n"
     ]
    },
    {
     "name": "stderr",
     "output_type": "stream",
     "text": [
      "Request to send a text message to @@b8496be050681beab8aade80fc9857a33053cf96b3364a9896eda71765297c60: 002368.SZ(-6.71%),128078.SZ(-3.16%),diff:-3.55%;\n",
      "000700.SZ(-4.75%),127004.SZ(2.84%),diff:-7.60%;\n",
      "002455.SZ(-3.50%),128093.SZ(-0.49%),diff:-3.02%;\n",
      "300568.SZ(10.00%),123009.SZ(19.13%),diff:-9.13%;\n",
      "cvbonds up ratio:12.20%\n"
     ]
    },
    {
     "name": "stdout",
     "output_type": "stream",
     "text": [
      "002368.SZ(-6.71%),128078.SZ(-3.16%),diff:-3.55%;\n",
      "000700.SZ(-4.75%),127004.SZ(2.84%),diff:-7.60%;\n",
      "002455.SZ(-3.50%),128093.SZ(-0.49%),diff:-3.02%;\n",
      "300568.SZ(10.00%),123009.SZ(19.13%),diff:-9.13%;\n",
      "cvbonds up ratio:12.20%\n"
     ]
    },
    {
     "name": "stderr",
     "output_type": "stream",
     "text": [
      "Request to send a text message to @@b8496be050681beab8aade80fc9857a33053cf96b3364a9896eda71765297c60: 2020-03-09 13:48:31.408782 update\n"
     ]
    },
    {
     "name": "stdout",
     "output_type": "stream",
     "text": [
      "2020-03-09 13:48:31.408782 update\n"
     ]
    },
    {
     "name": "stderr",
     "output_type": "stream",
     "text": [
      "Request to send a text message to @@b8496be050681beab8aade80fc9857a33053cf96b3364a9896eda71765297c60: 600105.SH(3.74%),110058.SH(-0.08%),diff:3.82%;\n",
      "002368.SZ(-6.88%),128078.SZ(-3.16%),diff:-3.72%;\n",
      "000700.SZ(-5.63%),127004.SZ(1.82%),diff:-7.46%;\n",
      "002455.SZ(-3.68%),128093.SZ(-0.49%),diff:-3.18%;\n",
      "300568.SZ(10.00%),123009.SZ(19.29%),diff:-9.29%;\n",
      "cvbonds up ratio:9.76%\n"
     ]
    },
    {
     "name": "stdout",
     "output_type": "stream",
     "text": [
      "600105.SH(3.74%),110058.SH(-0.08%),diff:3.82%;\n",
      "002368.SZ(-6.88%),128078.SZ(-3.16%),diff:-3.72%;\n",
      "000700.SZ(-5.63%),127004.SZ(1.82%),diff:-7.46%;\n",
      "002455.SZ(-3.68%),128093.SZ(-0.49%),diff:-3.18%;\n",
      "300568.SZ(10.00%),123009.SZ(19.29%),diff:-9.29%;\n",
      "cvbonds up ratio:9.76%\n"
     ]
    },
    {
     "name": "stderr",
     "output_type": "stream",
     "text": [
      "Request to send a text message to @@b8496be050681beab8aade80fc9857a33053cf96b3364a9896eda71765297c60: 2020-03-09 13:53:35.086401 update\n"
     ]
    },
    {
     "name": "stdout",
     "output_type": "stream",
     "text": [
      "2020-03-09 13:53:35.086401 update\n"
     ]
    },
    {
     "name": "stderr",
     "output_type": "stream",
     "text": [
      "Request to send a text message to @@b8496be050681beab8aade80fc9857a33053cf96b3364a9896eda71765297c60: 300545.SZ(-7.00%),123038.SZ(-3.78%),diff:-3.21%;\n",
      "002460.SZ(-7.16%),128028.SZ(-4.14%),diff:-3.02%;\n",
      "000700.SZ(-6.36%),127004.SZ(1.87%),diff:-8.23%;\n",
      "002455.SZ(-3.68%),128093.SZ(-0.49%),diff:-3.19%;\n",
      "300568.SZ(10.00%),123009.SZ(22.43%),diff:-12.43%;\n",
      "cvbonds up ratio:9.76%\n"
     ]
    },
    {
     "name": "stdout",
     "output_type": "stream",
     "text": [
      "300545.SZ(-7.00%),123038.SZ(-3.78%),diff:-3.21%;\n",
      "002460.SZ(-7.16%),128028.SZ(-4.14%),diff:-3.02%;\n",
      "000700.SZ(-6.36%),127004.SZ(1.87%),diff:-8.23%;\n",
      "002455.SZ(-3.68%),128093.SZ(-0.49%),diff:-3.19%;\n",
      "300568.SZ(10.00%),123009.SZ(22.43%),diff:-12.43%;\n",
      "cvbonds up ratio:9.76%\n"
     ]
    },
    {
     "name": "stderr",
     "output_type": "stream",
     "text": [
      "Request to send a text message to @@b8496be050681beab8aade80fc9857a33053cf96b3364a9896eda71765297c60: 2020-03-09 13:58:38.805394 update\n"
     ]
    },
    {
     "name": "stdout",
     "output_type": "stream",
     "text": [
      "2020-03-09 13:58:38.805394 update\n"
     ]
    },
    {
     "name": "stderr",
     "output_type": "stream",
     "text": [
      "Request to send a text message to @@b8496be050681beab8aade80fc9857a33053cf96b3364a9896eda71765297c60: 600105.SH(3.15%),110058.SH(-0.17%),diff:3.32%;\n",
      "000876.SZ(2.93%),127015.SZ(-0.21%),diff:3.13%;\n",
      "300545.SZ(-6.94%),123038.SZ(-3.57%),diff:-3.37%;\n",
      "000700.SZ(-5.63%),127004.SZ(2.03%),diff:-7.66%;\n",
      "002455.SZ(-3.68%),128093.SZ(-0.49%),diff:-3.19%;\n",
      "300568.SZ(10.00%),123009.SZ(21.19%),diff:-11.19%;\n",
      "cvbonds up ratio:12.20%\n"
     ]
    },
    {
     "name": "stdout",
     "output_type": "stream",
     "text": [
      "600105.SH(3.15%),110058.SH(-0.17%),diff:3.32%;\n",
      "000876.SZ(2.93%),127015.SZ(-0.21%),diff:3.13%;\n",
      "300545.SZ(-6.94%),123038.SZ(-3.57%),diff:-3.37%;\n",
      "000700.SZ(-5.63%),127004.SZ(2.03%),diff:-7.66%;\n",
      "002455.SZ(-3.68%),128093.SZ(-0.49%),diff:-3.19%;\n",
      "300568.SZ(10.00%),123009.SZ(21.19%),diff:-11.19%;\n",
      "cvbonds up ratio:12.20%\n"
     ]
    },
    {
     "name": "stderr",
     "output_type": "stream",
     "text": [
      "Request to send a text message to @@b8496be050681beab8aade80fc9857a33053cf96b3364a9896eda71765297c60: 2020-03-09 14:03:42.832772 update\n"
     ]
    },
    {
     "name": "stdout",
     "output_type": "stream",
     "text": [
      "2020-03-09 14:03:42.832772 update\n"
     ]
    },
    {
     "name": "stderr",
     "output_type": "stream",
     "text": [
      "Request to send a text message to @@b8496be050681beab8aade80fc9857a33053cf96b3364a9896eda71765297c60: 600105.SH(2.76%),110058.SH(-0.40%),diff:3.15%;\n",
      "000876.SZ(3.10%),127015.SZ(-0.01%),diff:3.11%;\n",
      "300545.SZ(-6.83%),123038.SZ(-3.46%),diff:-3.37%;\n",
      "000700.SZ(-5.85%),127004.SZ(2.33%),diff:-8.18%;\n",
      "002455.SZ(-3.50%),128093.SZ(-0.31%),diff:-3.19%;\n",
      "300568.SZ(10.00%),123009.SZ(24.42%),diff:-14.42%;\n",
      "cvbonds up ratio:12.20%\n"
     ]
    },
    {
     "name": "stdout",
     "output_type": "stream",
     "text": [
      "600105.SH(2.76%),110058.SH(-0.40%),diff:3.15%;\n",
      "000876.SZ(3.10%),127015.SZ(-0.01%),diff:3.11%;\n",
      "300545.SZ(-6.83%),123038.SZ(-3.46%),diff:-3.37%;\n",
      "000700.SZ(-5.85%),127004.SZ(2.33%),diff:-8.18%;\n",
      "002455.SZ(-3.50%),128093.SZ(-0.31%),diff:-3.19%;\n",
      "300568.SZ(10.00%),123009.SZ(24.42%),diff:-14.42%;\n",
      "cvbonds up ratio:12.20%\n"
     ]
    },
    {
     "name": "stderr",
     "output_type": "stream",
     "text": [
      "No uins in 51 message\n",
      "\n",
      "No uins in 51 message\n",
      "\n",
      "No uins in 51 message\n",
      "\n",
      "No uins in 51 message\n",
      "\n",
      "No uins in 51 message\n",
      "\n",
      "No uins in 51 message\n",
      "\n",
      "No uins in 51 message\n",
      "\n",
      "No uins in 51 message\n",
      "\n",
      "No uins in 51 message\n",
      "\n",
      "No uins in 51 message\n",
      "\n",
      "No uins in 51 message\n",
      "\n",
      "No uins in 51 message\n",
      "\n",
      "No uins in 51 message\n",
      "\n",
      "chatroom member fetch failed with @8ea1456c2a60703994edee59d7895688\n",
      "No uins in 51 message\n",
      "\n",
      "Request to send a text message to @@b8496be050681beab8aade80fc9857a33053cf96b3364a9896eda71765297c60: 2020-03-09 14:08:44.547510 update\n"
     ]
    },
    {
     "name": "stdout",
     "output_type": "stream",
     "text": [
      "2020-03-09 14:08:44.547510 update\n"
     ]
    },
    {
     "name": "stderr",
     "output_type": "stream",
     "text": [
      "Request to send a text message to @@b8496be050681beab8aade80fc9857a33053cf96b3364a9896eda71765297c60: 300545.SZ(-6.81%),123038.SZ(-3.07%),diff:-3.73%;\n",
      "000700.SZ(-4.97%),127004.SZ(2.44%),diff:-7.42%;\n",
      "002455.SZ(-3.50%),128093.SZ(-0.31%),diff:-3.19%;\n",
      "300568.SZ(10.00%),123009.SZ(22.39%),diff:-12.39%;\n",
      "cvbonds up ratio:17.07%\n"
     ]
    },
    {
     "name": "stdout",
     "output_type": "stream",
     "text": [
      "300545.SZ(-6.81%),123038.SZ(-3.07%),diff:-3.73%;\n",
      "000700.SZ(-4.97%),127004.SZ(2.44%),diff:-7.42%;\n",
      "002455.SZ(-3.50%),128093.SZ(-0.31%),diff:-3.19%;\n",
      "300568.SZ(10.00%),123009.SZ(22.39%),diff:-12.39%;\n",
      "cvbonds up ratio:17.07%\n"
     ]
    },
    {
     "name": "stderr",
     "output_type": "stream",
     "text": [
      "No uins in 51 message\n",
      "\n",
      "No uins in 51 message\n",
      "\n",
      "No uins in 51 message\n",
      "\n",
      "Request to send a text message to @@b8496be050681beab8aade80fc9857a33053cf96b3364a9896eda71765297c60: 2020-03-09 14:13:45.654524 update\n"
     ]
    },
    {
     "name": "stdout",
     "output_type": "stream",
     "text": [
      "2020-03-09 14:13:45.654524 update\n"
     ]
    },
    {
     "name": "stderr",
     "output_type": "stream",
     "text": [
      "Request to send a text message to @@b8496be050681beab8aade80fc9857a33053cf96b3364a9896eda71765297c60: 300545.SZ(-7.35%),123038.SZ(-3.16%),diff:-4.18%;\n",
      "000700.SZ(-5.63%),127004.SZ(2.04%),diff:-7.67%;\n",
      "300568.SZ(10.00%),123009.SZ(22.16%),diff:-12.16%;\n",
      "cvbonds up ratio:14.63%\n"
     ]
    },
    {
     "name": "stdout",
     "output_type": "stream",
     "text": [
      "300545.SZ(-7.35%),123038.SZ(-3.16%),diff:-4.18%;\n",
      "000700.SZ(-5.63%),127004.SZ(2.04%),diff:-7.67%;\n",
      "300568.SZ(10.00%),123009.SZ(22.16%),diff:-12.16%;\n",
      "cvbonds up ratio:14.63%\n"
     ]
    },
    {
     "name": "stderr",
     "output_type": "stream",
     "text": [
      "chatroom member fetch failed with @8ea1456c2a60703994edee59d7895688\n",
      "chatroom member fetch failed with @8ea1456c2a60703994edee59d7895688\n",
      "Traceback (most recent call last):\n",
      "  File \"c:\\apps\\miniconda3\\lib\\site-packages\\urllib3\\connection.py\", line 159, in _new_conn\n",
      "    (self._dns_host, self.port), self.timeout, **extra_kw)\n",
      "  File \"c:\\apps\\miniconda3\\lib\\site-packages\\urllib3\\util\\connection.py\", line 80, in create_connection\n",
      "    raise err\n",
      "  File \"c:\\apps\\miniconda3\\lib\\site-packages\\urllib3\\util\\connection.py\", line 70, in create_connection\n",
      "    sock.connect(sa)\n",
      "socket.timeout: timed out\n",
      "\n",
      "During handling of the above exception, another exception occurred:\n",
      "\n",
      "Traceback (most recent call last):\n",
      "  File \"c:\\apps\\miniconda3\\lib\\site-packages\\urllib3\\connectionpool.py\", line 600, in urlopen\n",
      "    chunked=chunked)\n",
      "  File \"c:\\apps\\miniconda3\\lib\\site-packages\\urllib3\\connectionpool.py\", line 343, in _make_request\n",
      "    self._validate_conn(conn)\n",
      "  File \"c:\\apps\\miniconda3\\lib\\site-packages\\urllib3\\connectionpool.py\", line 839, in _validate_conn\n",
      "    conn.connect()\n",
      "  File \"c:\\apps\\miniconda3\\lib\\site-packages\\urllib3\\connection.py\", line 301, in connect\n",
      "    conn = self._new_conn()\n",
      "  File \"c:\\apps\\miniconda3\\lib\\site-packages\\urllib3\\connection.py\", line 164, in _new_conn\n",
      "    (self.host, self.timeout))\n",
      "urllib3.exceptions.ConnectTimeoutError: (<urllib3.connection.VerifiedHTTPSConnection object at 0x0000000014E94358>, 'Connection to wx.qq.com timed out. (connect timeout=10)')\n",
      "\n",
      "During handling of the above exception, another exception occurred:\n",
      "\n",
      "Traceback (most recent call last):\n",
      "  File \"c:\\apps\\miniconda3\\lib\\site-packages\\requests\\adapters.py\", line 449, in send\n",
      "    timeout=timeout\n",
      "  File \"c:\\apps\\miniconda3\\lib\\site-packages\\urllib3\\connectionpool.py\", line 638, in urlopen\n",
      "    _stacktrace=sys.exc_info()[2])\n",
      "  File \"c:\\apps\\miniconda3\\lib\\site-packages\\urllib3\\util\\retry.py\", line 399, in increment\n",
      "    raise MaxRetryError(_pool, url, error or ResponseError(cause))\n",
      "urllib3.exceptions.MaxRetryError: HTTPSConnectionPool(host='wx.qq.com', port=443): Max retries exceeded with url: /cgi-bin/mmwebwx-bin/webwxsync?sid=nmXC/0zD8z166RUZ&skey=@crypt_96d9e030_1f9a878f88efdb6fd54bfa029a97f6e3&pass_ticket=FrLHRaCicERkNhB73VspCnfjvkARYko92icEQYL0uqc%3D (Caused by ConnectTimeoutError(<urllib3.connection.VerifiedHTTPSConnection object at 0x0000000014E94358>, 'Connection to wx.qq.com timed out. (connect timeout=10)'))\n",
      "\n",
      "During handling of the above exception, another exception occurred:\n",
      "\n",
      "Traceback (most recent call last):\n",
      "  File \"c:\\apps\\miniconda3\\lib\\site-packages\\itchat\\components\\login.py\", line 253, in maintain_loop\n",
      "    msgList, contactList = self.get_msg()\n",
      "  File \"c:\\apps\\miniconda3\\lib\\site-packages\\itchat\\components\\login.py\", line 334, in get_msg\n",
      "    r = self.s.post(url, data=json.dumps(data), headers=headers, timeout=config.TIMEOUT)\n",
      "  File \"c:\\apps\\miniconda3\\lib\\site-packages\\requests\\sessions.py\", line 581, in post\n",
      "    return self.request('POST', url, data=data, json=json, **kwargs)\n",
      "  File \"c:\\apps\\miniconda3\\lib\\site-packages\\requests\\sessions.py\", line 533, in request\n",
      "    resp = self.send(prep, **send_kwargs)\n",
      "  File \"c:\\apps\\miniconda3\\lib\\site-packages\\requests\\sessions.py\", line 646, in send\n",
      "    r = adapter.send(request, **kwargs)\n",
      "  File \"c:\\apps\\miniconda3\\lib\\site-packages\\requests\\adapters.py\", line 504, in send\n",
      "    raise ConnectTimeout(e, request=request)\n",
      "requests.exceptions.ConnectTimeout: HTTPSConnectionPool(host='wx.qq.com', port=443): Max retries exceeded with url: /cgi-bin/mmwebwx-bin/webwxsync?sid=nmXC/0zD8z166RUZ&skey=@crypt_96d9e030_1f9a878f88efdb6fd54bfa029a97f6e3&pass_ticket=FrLHRaCicERkNhB73VspCnfjvkARYko92icEQYL0uqc%3D (Caused by ConnectTimeoutError(<urllib3.connection.VerifiedHTTPSConnection object at 0x0000000014E94358>, 'Connection to wx.qq.com timed out. (connect timeout=10)'))\n",
      "\n",
      "Request to send a text message to @@b8496be050681beab8aade80fc9857a33053cf96b3364a9896eda71765297c60: 2020-03-09 14:18:47.552518 update\n"
     ]
    },
    {
     "name": "stdout",
     "output_type": "stream",
     "text": [
      "2020-03-09 14:18:47.552518 update\n"
     ]
    },
    {
     "name": "stderr",
     "output_type": "stream",
     "text": [
      "Request to send a text message to @@b8496be050681beab8aade80fc9857a33053cf96b3364a9896eda71765297c60: 300545.SZ(-7.75%),123038.SZ(-3.16%),diff:-4.59%;\n",
      "000665.SZ(-7.14%),127007.SZ(-3.05%),diff:-4.09%;\n",
      "000700.SZ(-6.58%),127004.SZ(1.01%),diff:-7.59%;\n",
      "300568.SZ(10.00%),123009.SZ(21.89%),diff:-11.89%;\n",
      "cvbonds up ratio:14.63%\n"
     ]
    },
    {
     "name": "stdout",
     "output_type": "stream",
     "text": [
      "300545.SZ(-7.75%),123038.SZ(-3.16%),diff:-4.59%;\n",
      "000665.SZ(-7.14%),127007.SZ(-3.05%),diff:-4.09%;\n",
      "000700.SZ(-6.58%),127004.SZ(1.01%),diff:-7.59%;\n",
      "300568.SZ(10.00%),123009.SZ(21.89%),diff:-11.89%;\n",
      "cvbonds up ratio:14.63%\n"
     ]
    },
    {
     "name": "stderr",
     "output_type": "stream",
     "text": [
      "No uins in 51 message\n",
      "\n",
      "chatroom member fetch failed with @8ea1456c2a60703994edee59d7895688\n",
      "No uins in 51 message\n",
      "\n",
      "No uins in 51 message\n",
      "\n",
      "No uins in 51 message\n",
      "\n",
      "No uins in 51 message\n",
      "\n",
      "Request to send a text message to @@b8496be050681beab8aade80fc9857a33053cf96b3364a9896eda71765297c60: 2020-03-09 14:23:53.687663 update\n"
     ]
    },
    {
     "name": "stdout",
     "output_type": "stream",
     "text": [
      "2020-03-09 14:23:53.687663 update\n"
     ]
    },
    {
     "name": "stderr",
     "output_type": "stream",
     "text": [
      "Request to send a text message to @@b8496be050681beab8aade80fc9857a33053cf96b3364a9896eda71765297c60: 300545.SZ(-8.24%),123038.SZ(-3.16%),diff:-5.08%;\n",
      "600567.SH(-4.99%),110047.SH(-1.77%),diff:-3.21%;\n",
      "000665.SZ(-7.29%),127007.SZ(-3.02%),diff:-4.27%;\n",
      "000700.SZ(-7.83%),127004.SZ(-2.86%),diff:-4.96%;\n",
      "603901.SH(7.57%),113559.SH(4.34%),diff:3.23%;\n",
      "300568.SZ(10.00%),123009.SZ(20.28%),diff:-10.28%;\n",
      "cvbonds up ratio:14.63%\n"
     ]
    },
    {
     "name": "stdout",
     "output_type": "stream",
     "text": [
      "300545.SZ(-8.24%),123038.SZ(-3.16%),diff:-5.08%;\n",
      "600567.SH(-4.99%),110047.SH(-1.77%),diff:-3.21%;\n",
      "000665.SZ(-7.29%),127007.SZ(-3.02%),diff:-4.27%;\n",
      "000700.SZ(-7.83%),127004.SZ(-2.86%),diff:-4.96%;\n",
      "603901.SH(7.57%),113559.SH(4.34%),diff:3.23%;\n",
      "300568.SZ(10.00%),123009.SZ(20.28%),diff:-10.28%;\n",
      "cvbonds up ratio:14.63%\n"
     ]
    },
    {
     "name": "stderr",
     "output_type": "stream",
     "text": [
      "Request to send a text message to @@b8496be050681beab8aade80fc9857a33053cf96b3364a9896eda71765297c60: 2020-03-09 14:28:57.518195 update\n"
     ]
    },
    {
     "name": "stdout",
     "output_type": "stream",
     "text": [
      "2020-03-09 14:28:57.518195 update\n"
     ]
    },
    {
     "name": "stderr",
     "output_type": "stream",
     "text": [
      "Request to send a text message to @@b8496be050681beab8aade80fc9857a33053cf96b3364a9896eda71765297c60: 603738.SH(-4.40%),113503.SH(-1.03%),diff:-3.37%;\n",
      "300545.SZ(-9.37%),123038.SZ(-2.99%),diff:-6.38%;\n",
      "600567.SH(-5.26%),110047.SH(-1.26%),diff:-4.00%;\n",
      "000665.SZ(-8.43%),127007.SZ(-3.29%),diff:-5.14%;\n",
      "000700.SZ(-8.27%),127004.SZ(-1.81%),diff:-6.46%;\n",
      "002455.SZ(-3.68%),128093.SZ(-0.31%),diff:-3.36%;\n",
      "300568.SZ(10.00%),123009.SZ(19.90%),diff:-9.90%;\n",
      "cvbonds up ratio:9.76%\n"
     ]
    },
    {
     "name": "stdout",
     "output_type": "stream",
     "text": [
      "603738.SH(-4.40%),113503.SH(-1.03%),diff:-3.37%;\n",
      "300545.SZ(-9.37%),123038.SZ(-2.99%),diff:-6.38%;\n",
      "600567.SH(-5.26%),110047.SH(-1.26%),diff:-4.00%;\n",
      "000665.SZ(-8.43%),127007.SZ(-3.29%),diff:-5.14%;\n",
      "000700.SZ(-8.27%),127004.SZ(-1.81%),diff:-6.46%;\n",
      "002455.SZ(-3.68%),128093.SZ(-0.31%),diff:-3.36%;\n",
      "300568.SZ(10.00%),123009.SZ(19.90%),diff:-9.90%;\n",
      "cvbonds up ratio:9.76%\n"
     ]
    },
    {
     "name": "stderr",
     "output_type": "stream",
     "text": [
      "Request to send a text message to @@b8496be050681beab8aade80fc9857a33053cf96b3364a9896eda71765297c60: 2020-03-09 14:34:00.617007 update\n"
     ]
    },
    {
     "name": "stdout",
     "output_type": "stream",
     "text": [
      "2020-03-09 14:34:00.617007 update\n"
     ]
    },
    {
     "name": "stderr",
     "output_type": "stream",
     "text": [
      "Request to send a text message to @@b8496be050681beab8aade80fc9857a33053cf96b3364a9896eda71765297c60: 002368.SZ(-5.43%),128078.SZ(-1.34%),diff:-4.09%;\n",
      "603738.SH(-4.26%),113503.SH(-1.08%),diff:-3.18%;\n",
      "300545.SZ(-8.29%),123038.SZ(-3.16%),diff:-5.13%;\n",
      "600567.SH(-5.26%),110047.SH(-1.54%),diff:-3.72%;\n",
      "000665.SZ(-7.86%),127007.SZ(-3.33%),diff:-4.53%;\n",
      "000700.SZ(-7.90%),127004.SZ(-2.25%),diff:-5.65%;\n",
      "002455.SZ(-3.50%),128093.SZ(-0.48%),diff:-3.02%;\n",
      "603901.SH(7.09%),113559.SH(2.95%),diff:4.14%;\n",
      "300568.SZ(10.00%),123009.SZ(19.59%),diff:-9.59%;\n",
      "cvbonds up ratio:9.76%\n"
     ]
    },
    {
     "name": "stdout",
     "output_type": "stream",
     "text": [
      "002368.SZ(-5.43%),128078.SZ(-1.34%),diff:-4.09%;\n",
      "603738.SH(-4.26%),113503.SH(-1.08%),diff:-3.18%;\n",
      "300545.SZ(-8.29%),123038.SZ(-3.16%),diff:-5.13%;\n",
      "600567.SH(-5.26%),110047.SH(-1.54%),diff:-3.72%;\n",
      "000665.SZ(-7.86%),127007.SZ(-3.33%),diff:-4.53%;\n",
      "000700.SZ(-7.90%),127004.SZ(-2.25%),diff:-5.65%;\n",
      "002455.SZ(-3.50%),128093.SZ(-0.48%),diff:-3.02%;\n",
      "603901.SH(7.09%),113559.SH(2.95%),diff:4.14%;\n",
      "300568.SZ(10.00%),123009.SZ(19.59%),diff:-9.59%;\n",
      "cvbonds up ratio:9.76%\n"
     ]
    },
    {
     "name": "stderr",
     "output_type": "stream",
     "text": [
      "Request to send a text message to @@b8496be050681beab8aade80fc9857a33053cf96b3364a9896eda71765297c60: 2020-03-09 14:39:09.488199 update\n"
     ]
    },
    {
     "name": "stdout",
     "output_type": "stream",
     "text": [
      "2020-03-09 14:39:09.488199 update\n"
     ]
    },
    {
     "name": "stderr",
     "output_type": "stream",
     "text": [
      "Request to send a text message to @@b8496be050681beab8aade80fc9857a33053cf96b3364a9896eda71765297c60: 002368.SZ(-6.20%),128078.SZ(-0.60%),diff:-5.60%;\n",
      "300545.SZ(-9.56%),123038.SZ(-3.16%),diff:-6.40%;\n",
      "600567.SH(-5.54%),110047.SH(-1.64%),diff:-3.90%;\n",
      "000665.SZ(-9.43%),127007.SZ(-3.72%),diff:-5.71%;\n",
      "000700.SZ(-10.02%),127004.SZ(-6.16%),diff:-3.87%;\n",
      "002455.SZ(-4.03%),128093.SZ(-0.48%),diff:-3.55%;\n",
      "603901.SH(6.90%),113559.SH(2.70%),diff:4.20%;\n",
      "300568.SZ(10.00%),123009.SZ(17.37%),diff:-7.37%;\n",
      "cvbonds up ratio:9.76%\n"
     ]
    },
    {
     "name": "stdout",
     "output_type": "stream",
     "text": [
      "002368.SZ(-6.20%),128078.SZ(-0.60%),diff:-5.60%;\n",
      "300545.SZ(-9.56%),123038.SZ(-3.16%),diff:-6.40%;\n",
      "600567.SH(-5.54%),110047.SH(-1.64%),diff:-3.90%;\n",
      "000665.SZ(-9.43%),127007.SZ(-3.72%),diff:-5.71%;\n",
      "000700.SZ(-10.02%),127004.SZ(-6.16%),diff:-3.87%;\n",
      "002455.SZ(-4.03%),128093.SZ(-0.48%),diff:-3.55%;\n",
      "603901.SH(6.90%),113559.SH(2.70%),diff:4.20%;\n",
      "300568.SZ(10.00%),123009.SZ(17.37%),diff:-7.37%;\n",
      "cvbonds up ratio:9.76%\n"
     ]
    },
    {
     "name": "stderr",
     "output_type": "stream",
     "text": [
      "Request to send a text message to @@b8496be050681beab8aade80fc9857a33053cf96b3364a9896eda71765297c60: 2020-03-09 14:44:13.770167 update\n"
     ]
    },
    {
     "name": "stdout",
     "output_type": "stream",
     "text": [
      "2020-03-09 14:44:13.770167 update\n"
     ]
    },
    {
     "name": "stderr",
     "output_type": "stream",
     "text": [
      "Request to send a text message to @@b8496be050681beab8aade80fc9857a33053cf96b3364a9896eda71765297c60: 002368.SZ(-6.86%),128078.SZ(-0.47%),diff:-6.39%;\n",
      "300545.SZ(-9.70%),123038.SZ(-3.41%),diff:-6.28%;\n",
      "600567.SH(-5.54%),110047.SH(-2.05%),diff:-3.49%;\n",
      "000665.SZ(-9.00%),127007.SZ(-3.70%),diff:-5.30%;\n",
      "000700.SZ(-10.02%),127004.SZ(-6.24%),diff:-3.78%;\n",
      "002455.SZ(-4.38%),128093.SZ(-0.48%),diff:-3.90%;\n",
      "603901.SH(6.62%),113559.SH(2.87%),diff:3.75%;\n",
      "300568.SZ(10.00%),123009.SZ(18.67%),diff:-8.67%;\n",
      "cvbonds up ratio:9.76%\n"
     ]
    },
    {
     "name": "stdout",
     "output_type": "stream",
     "text": [
      "002368.SZ(-6.86%),128078.SZ(-0.47%),diff:-6.39%;\n",
      "300545.SZ(-9.70%),123038.SZ(-3.41%),diff:-6.28%;\n",
      "600567.SH(-5.54%),110047.SH(-2.05%),diff:-3.49%;\n",
      "000665.SZ(-9.00%),127007.SZ(-3.70%),diff:-5.30%;\n",
      "000700.SZ(-10.02%),127004.SZ(-6.24%),diff:-3.78%;\n",
      "002455.SZ(-4.38%),128093.SZ(-0.48%),diff:-3.90%;\n",
      "603901.SH(6.62%),113559.SH(2.87%),diff:3.75%;\n",
      "300568.SZ(10.00%),123009.SZ(18.67%),diff:-8.67%;\n",
      "cvbonds up ratio:9.76%\n"
     ]
    },
    {
     "name": "stderr",
     "output_type": "stream",
     "text": [
      "chatroom member fetch failed with @8ea1456c2a60703994edee59d7895688\n",
      "No uins in 51 message\n",
      "\n",
      "No uins in 51 message\n",
      "\n",
      "Request to send a text message to @@b8496be050681beab8aade80fc9857a33053cf96b3364a9896eda71765297c60: 2020-03-09 14:49:17.635725 update\n"
     ]
    },
    {
     "name": "stdout",
     "output_type": "stream",
     "text": [
      "2020-03-09 14:49:17.635725 update\n"
     ]
    },
    {
     "name": "stderr",
     "output_type": "stream",
     "text": [
      "Request to send a text message to @@b8496be050681beab8aade80fc9857a33053cf96b3364a9896eda71765297c60: 002368.SZ(-6.81%),128078.SZ(-0.67%),diff:-6.15%;\n",
      "300545.SZ(-8.67%),123038.SZ(-3.52%),diff:-5.15%;\n",
      "600567.SH(-5.26%),110047.SH(-2.21%),diff:-3.05%;\n",
      "000665.SZ(-8.86%),127007.SZ(-4.10%),diff:-4.75%;\n",
      "002455.SZ(-4.03%),128093.SZ(-0.48%),diff:-3.55%;\n",
      "603901.SH(6.42%),113559.SH(2.74%),diff:3.68%;\n",
      "300568.SZ(10.00%),123009.SZ(18.87%),diff:-8.87%;\n",
      "cvbonds up ratio:9.76%\n"
     ]
    },
    {
     "name": "stdout",
     "output_type": "stream",
     "text": [
      "002368.SZ(-6.81%),128078.SZ(-0.67%),diff:-6.15%;\n",
      "300545.SZ(-8.67%),123038.SZ(-3.52%),diff:-5.15%;\n",
      "600567.SH(-5.26%),110047.SH(-2.21%),diff:-3.05%;\n",
      "000665.SZ(-8.86%),127007.SZ(-4.10%),diff:-4.75%;\n",
      "002455.SZ(-4.03%),128093.SZ(-0.48%),diff:-3.55%;\n",
      "603901.SH(6.42%),113559.SH(2.74%),diff:3.68%;\n",
      "300568.SZ(10.00%),123009.SZ(18.87%),diff:-8.87%;\n",
      "cvbonds up ratio:9.76%\n"
     ]
    },
    {
     "name": "stderr",
     "output_type": "stream",
     "text": [
      "Request to send a text message to @@b8496be050681beab8aade80fc9857a33053cf96b3364a9896eda71765297c60: 2020-03-09 14:54:20.381498 update\n"
     ]
    },
    {
     "name": "stdout",
     "output_type": "stream",
     "text": [
      "2020-03-09 14:54:20.381498 update\n"
     ]
    },
    {
     "name": "stderr",
     "output_type": "stream",
     "text": [
      "Request to send a text message to @@b8496be050681beab8aade80fc9857a33053cf96b3364a9896eda71765297c60: 002368.SZ(-7.32%),128078.SZ(-2.54%),diff:-4.78%;\n",
      "300545.SZ(-9.62%),123038.SZ(-3.56%),diff:-6.06%;\n",
      "600567.SH(-5.82%),110047.SH(-2.34%),diff:-3.48%;\n",
      "000665.SZ(-8.86%),127007.SZ(-4.76%),diff:-4.10%;\n",
      "002455.SZ(-4.20%),128093.SZ(-0.49%),diff:-3.72%;\n",
      "603901.SH(6.14%),113559.SH(0.94%),diff:5.19%;\n",
      "300568.SZ(10.00%),123009.SZ(20.60%),diff:-10.60%;\n",
      "cvbonds up ratio:4.88%\n"
     ]
    },
    {
     "name": "stdout",
     "output_type": "stream",
     "text": [
      "002368.SZ(-7.32%),128078.SZ(-2.54%),diff:-4.78%;\n",
      "300545.SZ(-9.62%),123038.SZ(-3.56%),diff:-6.06%;\n",
      "600567.SH(-5.82%),110047.SH(-2.34%),diff:-3.48%;\n",
      "000665.SZ(-8.86%),127007.SZ(-4.76%),diff:-4.10%;\n",
      "002455.SZ(-4.20%),128093.SZ(-0.49%),diff:-3.72%;\n",
      "603901.SH(6.14%),113559.SH(0.94%),diff:5.19%;\n",
      "300568.SZ(10.00%),123009.SZ(20.60%),diff:-10.60%;\n",
      "cvbonds up ratio:4.88%\n"
     ]
    },
    {
     "name": "stderr",
     "output_type": "stream",
     "text": [
      "No uins in 51 message\n",
      "\n",
      "Request to send a text message to @@b8496be050681beab8aade80fc9857a33053cf96b3364a9896eda71765297c60: 2020-03-09 14:59:30.244907 update\n"
     ]
    },
    {
     "name": "stdout",
     "output_type": "stream",
     "text": [
      "2020-03-09 14:59:30.244907 update\n"
     ]
    },
    {
     "name": "stderr",
     "output_type": "stream",
     "text": [
      "Request to send a text message to @@b8496be050681beab8aade80fc9857a33053cf96b3364a9896eda71765297c60: 002368.SZ(-6.67%),128078.SZ(-2.67%),diff:-4.00%;\n",
      "300545.SZ(-9.75%),123038.SZ(-3.56%),diff:-6.19%;\n",
      "600567.SH(-5.54%),110047.SH(-2.37%),diff:-3.17%;\n",
      "000665.SZ(-8.29%),127007.SZ(-4.07%),diff:-4.22%;\n",
      "603688.SH(0.40%),113548.SH(-2.93%),diff:3.33%;\n",
      "603901.SH(6.23%),113559.SH(0.38%),diff:5.85%;\n",
      "300568.SZ(10.00%),123009.SZ(19.83%),diff:-9.83%;\n",
      "cvbonds up ratio:4.88%\n"
     ]
    },
    {
     "name": "stdout",
     "output_type": "stream",
     "text": [
      "002368.SZ(-6.67%),128078.SZ(-2.67%),diff:-4.00%;\n",
      "300545.SZ(-9.75%),123038.SZ(-3.56%),diff:-6.19%;\n",
      "600567.SH(-5.54%),110047.SH(-2.37%),diff:-3.17%;\n",
      "000665.SZ(-8.29%),127007.SZ(-4.07%),diff:-4.22%;\n",
      "603688.SH(0.40%),113548.SH(-2.93%),diff:3.33%;\n",
      "603901.SH(6.23%),113559.SH(0.38%),diff:5.85%;\n",
      "300568.SZ(10.00%),123009.SZ(19.83%),diff:-9.83%;\n",
      "cvbonds up ratio:4.88%\n"
     ]
    },
    {
     "name": "stderr",
     "output_type": "stream",
     "text": [
      "chatroom member fetch failed with @8ea1456c2a60703994edee59d7895688\n",
      "No uins in 51 message\n",
      "\n",
      "itchat received an ^C and exit.\n",
      "Bye~\n"
     ]
    }
   ],
   "source": [
    "itchat.run(True)"
   ]
  },
  {
   "cell_type": "code",
   "execution_count": 28,
   "metadata": {},
   "outputs": [
    {
     "data": {
      "text/plain": [
       "<ItchatReturnValue: {'BaseResponse': {'ErrMsg': '请求成功', 'Ret': 0, 'RawMsg': 'logout successfully.'}}>"
      ]
     },
     "execution_count": 28,
     "metadata": {},
     "output_type": "execute_result"
    },
    {
     "name": "stderr",
     "output_type": "stream",
     "text": [
      "LOG OUT!\n",
      "c:\\apps\\miniconda3\\lib\\site-packages\\ipykernel_launcher.py:8: RuntimeWarning: invalid value encountered in greater\n",
      "  \n",
      "c:\\apps\\miniconda3\\lib\\site-packages\\ipykernel_launcher.py:8: RuntimeWarning: invalid value encountered in less\n",
      "  \n",
      "Request to send a text message to @@b8496be050681beab8aade80fc9857a33053cf96b3364a9896eda71765297c60: 2020-03-09 15:04:40.549986 update\n"
     ]
    },
    {
     "name": "stdout",
     "output_type": "stream",
     "text": [
      "2020-03-09 15:04:40.549986 update\n"
     ]
    },
    {
     "name": "stderr",
     "output_type": "stream",
     "text": [
      "c:\\apps\\miniconda3\\lib\\site-packages\\ipykernel_launcher.py:42: RuntimeWarning: invalid value encountered in greater\n",
      "Request to send a text message to @@b8496be050681beab8aade80fc9857a33053cf96b3364a9896eda71765297c60: 002368.SZ(-6.88%),128078.SZ(-2.73%),diff:-4.15%;\n",
      "300545.SZ(-9.72%),123038.SZ(-3.34%),diff:-6.38%;\n",
      "600567.SH(-5.82%),110047.SH(-2.37%),diff:-3.44%;\n",
      "000665.SZ(-7.86%),127007.SZ(-4.07%),diff:-3.79%;\n",
      "002455.SZ(-3.68%),128093.SZ(-0.49%),diff:-3.19%;\n",
      "603901.SH(6.33%),113559.SH(0.47%),diff:5.86%;\n",
      "300568.SZ(10.00%),123009.SZ(20.21%),diff:-10.21%;\n",
      "cvbonds up ratio:4.88%\n"
     ]
    },
    {
     "name": "stdout",
     "output_type": "stream",
     "text": [
      "002368.SZ(-6.88%),128078.SZ(-2.73%),diff:-4.15%;\n",
      "300545.SZ(-9.72%),123038.SZ(-3.34%),diff:-6.38%;\n",
      "600567.SH(-5.82%),110047.SH(-2.37%),diff:-3.44%;\n",
      "000665.SZ(-7.86%),127007.SZ(-4.07%),diff:-3.79%;\n",
      "002455.SZ(-3.68%),128093.SZ(-0.49%),diff:-3.19%;\n",
      "603901.SH(6.33%),113559.SH(0.47%),diff:5.86%;\n",
      "300568.SZ(10.00%),123009.SZ(20.21%),diff:-10.21%;\n",
      "cvbonds up ratio:4.88%\n"
     ]
    },
    {
     "name": "stderr",
     "output_type": "stream",
     "text": [
      "Request to send a text message to @@b8496be050681beab8aade80fc9857a33053cf96b3364a9896eda71765297c60: 2020-03-09 15:09:45.146268 update\n"
     ]
    },
    {
     "name": "stdout",
     "output_type": "stream",
     "text": [
      "2020-03-09 15:09:45.146268 update\n"
     ]
    },
    {
     "name": "stderr",
     "output_type": "stream",
     "text": [
      "Request to send a text message to @@b8496be050681beab8aade80fc9857a33053cf96b3364a9896eda71765297c60: 002368.SZ(-6.88%),128078.SZ(-2.73%),diff:-4.15%;\n",
      "300545.SZ(-9.72%),123038.SZ(-3.34%),diff:-6.38%;\n",
      "600567.SH(-5.82%),110047.SH(-2.37%),diff:-3.44%;\n",
      "000665.SZ(-7.86%),127007.SZ(-4.07%),diff:-3.79%;\n",
      "002455.SZ(-3.68%),128093.SZ(-0.49%),diff:-3.19%;\n",
      "603901.SH(6.33%),113559.SH(0.47%),diff:5.86%;\n",
      "300568.SZ(10.00%),123009.SZ(20.21%),diff:-10.21%;\n",
      "cvbonds up ratio:4.88%\n"
     ]
    },
    {
     "name": "stdout",
     "output_type": "stream",
     "text": [
      "002368.SZ(-6.88%),128078.SZ(-2.73%),diff:-4.15%;\n",
      "300545.SZ(-9.72%),123038.SZ(-3.34%),diff:-6.38%;\n",
      "600567.SH(-5.82%),110047.SH(-2.37%),diff:-3.44%;\n",
      "000665.SZ(-7.86%),127007.SZ(-4.07%),diff:-3.79%;\n",
      "002455.SZ(-3.68%),128093.SZ(-0.49%),diff:-3.19%;\n",
      "603901.SH(6.33%),113559.SH(0.47%),diff:5.86%;\n",
      "300568.SZ(10.00%),123009.SZ(20.21%),diff:-10.21%;\n",
      "cvbonds up ratio:4.88%\n"
     ]
    },
    {
     "name": "stderr",
     "output_type": "stream",
     "text": [
      "Request to send a text message to @@b8496be050681beab8aade80fc9857a33053cf96b3364a9896eda71765297c60: 2020-03-09 15:14:48.545499 update\n"
     ]
    },
    {
     "name": "stdout",
     "output_type": "stream",
     "text": [
      "2020-03-09 15:14:48.545499 update\n"
     ]
    },
    {
     "name": "stderr",
     "output_type": "stream",
     "text": [
      "Request to send a text message to @@b8496be050681beab8aade80fc9857a33053cf96b3364a9896eda71765297c60: 002368.SZ(-6.88%),128078.SZ(-2.73%),diff:-4.15%;\n",
      "300545.SZ(-9.72%),123038.SZ(-3.34%),diff:-6.38%;\n",
      "600567.SH(-5.82%),110047.SH(-2.37%),diff:-3.44%;\n",
      "000665.SZ(-7.86%),127007.SZ(-4.07%),diff:-3.79%;\n",
      "002455.SZ(-3.68%),128093.SZ(-0.49%),diff:-3.19%;\n",
      "603901.SH(6.33%),113559.SH(0.47%),diff:5.86%;\n",
      "300568.SZ(10.00%),123009.SZ(20.21%),diff:-10.21%;\n",
      "cvbonds up ratio:4.88%\n"
     ]
    },
    {
     "name": "stdout",
     "output_type": "stream",
     "text": [
      "002368.SZ(-6.88%),128078.SZ(-2.73%),diff:-4.15%;\n",
      "300545.SZ(-9.72%),123038.SZ(-3.34%),diff:-6.38%;\n",
      "600567.SH(-5.82%),110047.SH(-2.37%),diff:-3.44%;\n",
      "000665.SZ(-7.86%),127007.SZ(-4.07%),diff:-3.79%;\n",
      "002455.SZ(-3.68%),128093.SZ(-0.49%),diff:-3.19%;\n",
      "603901.SH(6.33%),113559.SH(0.47%),diff:5.86%;\n",
      "300568.SZ(10.00%),123009.SZ(20.21%),diff:-10.21%;\n",
      "cvbonds up ratio:4.88%\n"
     ]
    },
    {
     "name": "stderr",
     "output_type": "stream",
     "text": [
      "Request to send a text message to @@b8496be050681beab8aade80fc9857a33053cf96b3364a9896eda71765297c60: 2020-03-09 15:19:54.942062 update\n"
     ]
    },
    {
     "name": "stdout",
     "output_type": "stream",
     "text": [
      "2020-03-09 15:19:54.942062 update\n"
     ]
    },
    {
     "name": "stderr",
     "output_type": "stream",
     "text": [
      "Request to send a text message to @@b8496be050681beab8aade80fc9857a33053cf96b3364a9896eda71765297c60: 002368.SZ(-6.88%),128078.SZ(-2.73%),diff:-4.15%;\n",
      "300545.SZ(-9.72%),123038.SZ(-3.34%),diff:-6.38%;\n",
      "600567.SH(-5.82%),110047.SH(-2.37%),diff:-3.44%;\n",
      "000665.SZ(-7.86%),127007.SZ(-4.07%),diff:-3.79%;\n",
      "002455.SZ(-3.68%),128093.SZ(-0.49%),diff:-3.19%;\n",
      "603901.SH(6.33%),113559.SH(0.47%),diff:5.86%;\n",
      "300568.SZ(10.00%),123009.SZ(20.21%),diff:-10.21%;\n",
      "cvbonds up ratio:4.88%\n"
     ]
    },
    {
     "name": "stdout",
     "output_type": "stream",
     "text": [
      "002368.SZ(-6.88%),128078.SZ(-2.73%),diff:-4.15%;\n",
      "300545.SZ(-9.72%),123038.SZ(-3.34%),diff:-6.38%;\n",
      "600567.SH(-5.82%),110047.SH(-2.37%),diff:-3.44%;\n",
      "000665.SZ(-7.86%),127007.SZ(-4.07%),diff:-3.79%;\n",
      "002455.SZ(-3.68%),128093.SZ(-0.49%),diff:-3.19%;\n",
      "603901.SH(6.33%),113559.SH(0.47%),diff:5.86%;\n",
      "300568.SZ(10.00%),123009.SZ(20.21%),diff:-10.21%;\n",
      "cvbonds up ratio:4.88%\n"
     ]
    },
    {
     "name": "stderr",
     "output_type": "stream",
     "text": [
      "Request to send a text message to @@b8496be050681beab8aade80fc9857a33053cf96b3364a9896eda71765297c60: 2020-03-09 15:24:57.829402 update\n"
     ]
    },
    {
     "name": "stdout",
     "output_type": "stream",
     "text": [
      "2020-03-09 15:24:57.829402 update\n"
     ]
    },
    {
     "name": "stderr",
     "output_type": "stream",
     "text": [
      "Request to send a text message to @@b8496be050681beab8aade80fc9857a33053cf96b3364a9896eda71765297c60: 002368.SZ(-6.88%),128078.SZ(-2.73%),diff:-4.15%;\n",
      "300545.SZ(-9.72%),123038.SZ(-3.34%),diff:-6.38%;\n",
      "600567.SH(-5.82%),110047.SH(-2.37%),diff:-3.44%;\n",
      "000665.SZ(-7.86%),127007.SZ(-4.07%),diff:-3.79%;\n",
      "002455.SZ(-3.68%),128093.SZ(-0.49%),diff:-3.19%;\n",
      "603901.SH(6.33%),113559.SH(0.47%),diff:5.86%;\n",
      "300568.SZ(10.00%),123009.SZ(20.21%),diff:-10.21%;\n",
      "cvbonds up ratio:4.88%\n"
     ]
    },
    {
     "name": "stdout",
     "output_type": "stream",
     "text": [
      "002368.SZ(-6.88%),128078.SZ(-2.73%),diff:-4.15%;\n",
      "300545.SZ(-9.72%),123038.SZ(-3.34%),diff:-6.38%;\n",
      "600567.SH(-5.82%),110047.SH(-2.37%),diff:-3.44%;\n",
      "000665.SZ(-7.86%),127007.SZ(-4.07%),diff:-3.79%;\n",
      "002455.SZ(-3.68%),128093.SZ(-0.49%),diff:-3.19%;\n",
      "603901.SH(6.33%),113559.SH(0.47%),diff:5.86%;\n",
      "300568.SZ(10.00%),123009.SZ(20.21%),diff:-10.21%;\n",
      "cvbonds up ratio:4.88%\n"
     ]
    },
    {
     "name": "stderr",
     "output_type": "stream",
     "text": [
      "Request to send a text message to @@b8496be050681beab8aade80fc9857a33053cf96b3364a9896eda71765297c60: 2020-03-09 15:30:00.059926 update\n"
     ]
    },
    {
     "name": "stdout",
     "output_type": "stream",
     "text": [
      "2020-03-09 15:30:00.059926 update\n"
     ]
    },
    {
     "name": "stderr",
     "output_type": "stream",
     "text": [
      "Request to send a text message to @@b8496be050681beab8aade80fc9857a33053cf96b3364a9896eda71765297c60: 002368.SZ(-6.88%),128078.SZ(-2.73%),diff:-4.15%;\n",
      "300545.SZ(-9.72%),123038.SZ(-3.34%),diff:-6.38%;\n",
      "600567.SH(-5.82%),110047.SH(-2.37%),diff:-3.44%;\n",
      "000665.SZ(-7.86%),127007.SZ(-4.07%),diff:-3.79%;\n",
      "002455.SZ(-3.68%),128093.SZ(-0.49%),diff:-3.19%;\n",
      "603901.SH(6.33%),113559.SH(0.47%),diff:5.86%;\n",
      "300568.SZ(10.00%),123009.SZ(20.21%),diff:-10.21%;\n",
      "cvbonds up ratio:4.88%\n"
     ]
    },
    {
     "name": "stdout",
     "output_type": "stream",
     "text": [
      "002368.SZ(-6.88%),128078.SZ(-2.73%),diff:-4.15%;\n",
      "300545.SZ(-9.72%),123038.SZ(-3.34%),diff:-6.38%;\n",
      "600567.SH(-5.82%),110047.SH(-2.37%),diff:-3.44%;\n",
      "000665.SZ(-7.86%),127007.SZ(-4.07%),diff:-3.79%;\n",
      "002455.SZ(-3.68%),128093.SZ(-0.49%),diff:-3.19%;\n",
      "603901.SH(6.33%),113559.SH(0.47%),diff:5.86%;\n",
      "300568.SZ(10.00%),123009.SZ(20.21%),diff:-10.21%;\n",
      "cvbonds up ratio:4.88%\n"
     ]
    },
    {
     "name": "stderr",
     "output_type": "stream",
     "text": [
      "Request to send a text message to @@b8496be050681beab8aade80fc9857a33053cf96b3364a9896eda71765297c60: 2020-03-09 15:35:03.107869 update\n"
     ]
    },
    {
     "name": "stdout",
     "output_type": "stream",
     "text": [
      "2020-03-09 15:35:03.107869 update\n"
     ]
    },
    {
     "name": "stderr",
     "output_type": "stream",
     "text": [
      "Request to send a text message to @@b8496be050681beab8aade80fc9857a33053cf96b3364a9896eda71765297c60: 002368.SZ(-6.88%),128078.SZ(-2.73%),diff:-4.15%;\n",
      "300545.SZ(-9.72%),123038.SZ(-3.34%),diff:-6.38%;\n",
      "600567.SH(-5.82%),110047.SH(-2.37%),diff:-3.44%;\n",
      "000665.SZ(-7.86%),127007.SZ(-4.07%),diff:-3.79%;\n",
      "002455.SZ(-3.68%),128093.SZ(-0.49%),diff:-3.19%;\n",
      "603901.SH(6.33%),113559.SH(0.47%),diff:5.86%;\n",
      "300568.SZ(10.00%),123009.SZ(20.21%),diff:-10.21%;\n",
      "cvbonds up ratio:4.88%\n"
     ]
    },
    {
     "name": "stdout",
     "output_type": "stream",
     "text": [
      "002368.SZ(-6.88%),128078.SZ(-2.73%),diff:-4.15%;\n",
      "300545.SZ(-9.72%),123038.SZ(-3.34%),diff:-6.38%;\n",
      "600567.SH(-5.82%),110047.SH(-2.37%),diff:-3.44%;\n",
      "000665.SZ(-7.86%),127007.SZ(-4.07%),diff:-3.79%;\n",
      "002455.SZ(-3.68%),128093.SZ(-0.49%),diff:-3.19%;\n",
      "603901.SH(6.33%),113559.SH(0.47%),diff:5.86%;\n",
      "300568.SZ(10.00%),123009.SZ(20.21%),diff:-10.21%;\n",
      "cvbonds up ratio:4.88%\n"
     ]
    },
    {
     "name": "stderr",
     "output_type": "stream",
     "text": [
      "Request to send a text message to @@b8496be050681beab8aade80fc9857a33053cf96b3364a9896eda71765297c60: 2020-03-09 15:40:06.708868 update\n"
     ]
    },
    {
     "name": "stdout",
     "output_type": "stream",
     "text": [
      "2020-03-09 15:40:06.708868 update\n"
     ]
    },
    {
     "name": "stderr",
     "output_type": "stream",
     "text": [
      "Request to send a text message to @@b8496be050681beab8aade80fc9857a33053cf96b3364a9896eda71765297c60: 002368.SZ(-6.88%),128078.SZ(-2.73%),diff:-4.15%;\n",
      "300545.SZ(-9.72%),123038.SZ(-3.34%),diff:-6.38%;\n",
      "600567.SH(-5.82%),110047.SH(-2.37%),diff:-3.44%;\n",
      "000665.SZ(-7.86%),127007.SZ(-4.07%),diff:-3.79%;\n",
      "002455.SZ(-3.68%),128093.SZ(-0.49%),diff:-3.19%;\n",
      "603901.SH(6.33%),113559.SH(0.47%),diff:5.86%;\n",
      "300568.SZ(10.00%),123009.SZ(20.21%),diff:-10.21%;\n",
      "cvbonds up ratio:4.88%\n"
     ]
    },
    {
     "name": "stdout",
     "output_type": "stream",
     "text": [
      "002368.SZ(-6.88%),128078.SZ(-2.73%),diff:-4.15%;\n",
      "300545.SZ(-9.72%),123038.SZ(-3.34%),diff:-6.38%;\n",
      "600567.SH(-5.82%),110047.SH(-2.37%),diff:-3.44%;\n",
      "000665.SZ(-7.86%),127007.SZ(-4.07%),diff:-3.79%;\n",
      "002455.SZ(-3.68%),128093.SZ(-0.49%),diff:-3.19%;\n",
      "603901.SH(6.33%),113559.SH(0.47%),diff:5.86%;\n",
      "300568.SZ(10.00%),123009.SZ(20.21%),diff:-10.21%;\n",
      "cvbonds up ratio:4.88%\n"
     ]
    },
    {
     "name": "stderr",
     "output_type": "stream",
     "text": [
      "Request to send a text message to @@b8496be050681beab8aade80fc9857a33053cf96b3364a9896eda71765297c60: 2020-03-09 15:45:12.501028 update\n"
     ]
    },
    {
     "name": "stdout",
     "output_type": "stream",
     "text": [
      "2020-03-09 15:45:12.501028 update\n"
     ]
    },
    {
     "name": "stderr",
     "output_type": "stream",
     "text": [
      "Request to send a text message to @@b8496be050681beab8aade80fc9857a33053cf96b3364a9896eda71765297c60: 002368.SZ(-6.88%),128078.SZ(-2.73%),diff:-4.15%;\n",
      "300545.SZ(-9.72%),123038.SZ(-3.34%),diff:-6.38%;\n",
      "600567.SH(-5.82%),110047.SH(-2.37%),diff:-3.44%;\n",
      "000665.SZ(-7.86%),127007.SZ(-4.07%),diff:-3.79%;\n",
      "002455.SZ(-3.68%),128093.SZ(-0.49%),diff:-3.19%;\n",
      "603901.SH(6.33%),113559.SH(0.47%),diff:5.86%;\n",
      "300568.SZ(10.00%),123009.SZ(20.21%),diff:-10.21%;\n",
      "cvbonds up ratio:4.88%\n"
     ]
    },
    {
     "name": "stdout",
     "output_type": "stream",
     "text": [
      "002368.SZ(-6.88%),128078.SZ(-2.73%),diff:-4.15%;\n",
      "300545.SZ(-9.72%),123038.SZ(-3.34%),diff:-6.38%;\n",
      "600567.SH(-5.82%),110047.SH(-2.37%),diff:-3.44%;\n",
      "000665.SZ(-7.86%),127007.SZ(-4.07%),diff:-3.79%;\n",
      "002455.SZ(-3.68%),128093.SZ(-0.49%),diff:-3.19%;\n",
      "603901.SH(6.33%),113559.SH(0.47%),diff:5.86%;\n",
      "300568.SZ(10.00%),123009.SZ(20.21%),diff:-10.21%;\n",
      "cvbonds up ratio:4.88%\n"
     ]
    },
    {
     "name": "stderr",
     "output_type": "stream",
     "text": [
      "Request to send a text message to @@b8496be050681beab8aade80fc9857a33053cf96b3364a9896eda71765297c60: 2020-03-09 15:50:16.761286 update\n"
     ]
    },
    {
     "name": "stdout",
     "output_type": "stream",
     "text": [
      "2020-03-09 15:50:16.761286 update\n"
     ]
    },
    {
     "name": "stderr",
     "output_type": "stream",
     "text": [
      "Request to send a text message to @@b8496be050681beab8aade80fc9857a33053cf96b3364a9896eda71765297c60: 002368.SZ(-6.88%),128078.SZ(-2.73%),diff:-4.15%;\n",
      "300545.SZ(-9.72%),123038.SZ(-3.34%),diff:-6.38%;\n",
      "600567.SH(-5.82%),110047.SH(-2.37%),diff:-3.44%;\n",
      "000665.SZ(-7.86%),127007.SZ(-4.07%),diff:-3.79%;\n",
      "002455.SZ(-3.68%),128093.SZ(-0.49%),diff:-3.19%;\n",
      "603901.SH(6.33%),113559.SH(0.47%),diff:5.86%;\n",
      "300568.SZ(10.00%),123009.SZ(20.21%),diff:-10.21%;\n",
      "cvbonds up ratio:4.88%\n"
     ]
    },
    {
     "name": "stdout",
     "output_type": "stream",
     "text": [
      "002368.SZ(-6.88%),128078.SZ(-2.73%),diff:-4.15%;\n",
      "300545.SZ(-9.72%),123038.SZ(-3.34%),diff:-6.38%;\n",
      "600567.SH(-5.82%),110047.SH(-2.37%),diff:-3.44%;\n",
      "000665.SZ(-7.86%),127007.SZ(-4.07%),diff:-3.79%;\n",
      "002455.SZ(-3.68%),128093.SZ(-0.49%),diff:-3.19%;\n",
      "603901.SH(6.33%),113559.SH(0.47%),diff:5.86%;\n",
      "300568.SZ(10.00%),123009.SZ(20.21%),diff:-10.21%;\n",
      "cvbonds up ratio:4.88%\n"
     ]
    },
    {
     "name": "stderr",
     "output_type": "stream",
     "text": [
      "Request to send a text message to @@b8496be050681beab8aade80fc9857a33053cf96b3364a9896eda71765297c60: 2020-03-09 15:55:21.482039 update\n"
     ]
    },
    {
     "name": "stdout",
     "output_type": "stream",
     "text": [
      "2020-03-09 15:55:21.482039 update\n"
     ]
    },
    {
     "name": "stderr",
     "output_type": "stream",
     "text": [
      "Request to send a text message to @@b8496be050681beab8aade80fc9857a33053cf96b3364a9896eda71765297c60: 002368.SZ(-6.88%),128078.SZ(-2.73%),diff:-4.15%;\n",
      "300545.SZ(-9.72%),123038.SZ(-3.34%),diff:-6.38%;\n",
      "600567.SH(-5.82%),110047.SH(-2.37%),diff:-3.44%;\n",
      "000665.SZ(-7.86%),127007.SZ(-4.07%),diff:-3.79%;\n",
      "002455.SZ(-3.68%),128093.SZ(-0.49%),diff:-3.19%;\n",
      "603901.SH(6.33%),113559.SH(0.47%),diff:5.86%;\n",
      "300568.SZ(10.00%),123009.SZ(20.21%),diff:-10.21%;\n",
      "cvbonds up ratio:4.88%\n"
     ]
    },
    {
     "name": "stdout",
     "output_type": "stream",
     "text": [
      "002368.SZ(-6.88%),128078.SZ(-2.73%),diff:-4.15%;\n",
      "300545.SZ(-9.72%),123038.SZ(-3.34%),diff:-6.38%;\n",
      "600567.SH(-5.82%),110047.SH(-2.37%),diff:-3.44%;\n",
      "000665.SZ(-7.86%),127007.SZ(-4.07%),diff:-3.79%;\n",
      "002455.SZ(-3.68%),128093.SZ(-0.49%),diff:-3.19%;\n",
      "603901.SH(6.33%),113559.SH(0.47%),diff:5.86%;\n",
      "300568.SZ(10.00%),123009.SZ(20.21%),diff:-10.21%;\n",
      "cvbonds up ratio:4.88%\n"
     ]
    },
    {
     "name": "stderr",
     "output_type": "stream",
     "text": [
      "Request to send a text message to @@b8496be050681beab8aade80fc9857a33053cf96b3364a9896eda71765297c60: 2020-03-09 16:00:25.131070 update\n"
     ]
    },
    {
     "name": "stdout",
     "output_type": "stream",
     "text": [
      "2020-03-09 16:00:25.131070 update\n"
     ]
    },
    {
     "name": "stderr",
     "output_type": "stream",
     "text": [
      "Request to send a text message to @@b8496be050681beab8aade80fc9857a33053cf96b3364a9896eda71765297c60: 002368.SZ(-6.88%),128078.SZ(-2.73%),diff:-4.15%;\n",
      "300545.SZ(-9.72%),123038.SZ(-3.34%),diff:-6.38%;\n",
      "600567.SH(-5.82%),110047.SH(-2.37%),diff:-3.44%;\n",
      "000665.SZ(-7.86%),127007.SZ(-4.07%),diff:-3.79%;\n",
      "002455.SZ(-3.68%),128093.SZ(-0.49%),diff:-3.19%;\n",
      "603901.SH(6.33%),113559.SH(0.47%),diff:5.86%;\n",
      "300568.SZ(10.00%),123009.SZ(20.21%),diff:-10.21%;\n",
      "cvbonds up ratio:4.88%\n"
     ]
    },
    {
     "name": "stdout",
     "output_type": "stream",
     "text": [
      "002368.SZ(-6.88%),128078.SZ(-2.73%),diff:-4.15%;\n",
      "300545.SZ(-9.72%),123038.SZ(-3.34%),diff:-6.38%;\n",
      "600567.SH(-5.82%),110047.SH(-2.37%),diff:-3.44%;\n",
      "000665.SZ(-7.86%),127007.SZ(-4.07%),diff:-3.79%;\n",
      "002455.SZ(-3.68%),128093.SZ(-0.49%),diff:-3.19%;\n",
      "603901.SH(6.33%),113559.SH(0.47%),diff:5.86%;\n",
      "300568.SZ(10.00%),123009.SZ(20.21%),diff:-10.21%;\n",
      "cvbonds up ratio:4.88%\n"
     ]
    },
    {
     "name": "stderr",
     "output_type": "stream",
     "text": [
      "Request to send a text message to @@b8496be050681beab8aade80fc9857a33053cf96b3364a9896eda71765297c60: 2020-03-09 16:05:51.955084 update\n"
     ]
    },
    {
     "name": "stdout",
     "output_type": "stream",
     "text": [
      "2020-03-09 16:05:51.955084 update\n"
     ]
    },
    {
     "name": "stderr",
     "output_type": "stream",
     "text": [
      "Request to send a text message to @@b8496be050681beab8aade80fc9857a33053cf96b3364a9896eda71765297c60: 002368.SZ(-6.88%),128078.SZ(-2.73%),diff:-4.15%;\n",
      "300545.SZ(-9.72%),123038.SZ(-3.34%),diff:-6.38%;\n",
      "600567.SH(-5.82%),110047.SH(-2.37%),diff:-3.44%;\n",
      "000665.SZ(-7.86%),127007.SZ(-4.07%),diff:-3.79%;\n",
      "002455.SZ(-3.68%),128093.SZ(-0.49%),diff:-3.19%;\n",
      "603901.SH(6.33%),113559.SH(0.47%),diff:5.86%;\n",
      "300568.SZ(10.00%),123009.SZ(20.21%),diff:-10.21%;\n",
      "cvbonds up ratio:4.88%\n"
     ]
    },
    {
     "name": "stdout",
     "output_type": "stream",
     "text": [
      "002368.SZ(-6.88%),128078.SZ(-2.73%),diff:-4.15%;\n",
      "300545.SZ(-9.72%),123038.SZ(-3.34%),diff:-6.38%;\n",
      "600567.SH(-5.82%),110047.SH(-2.37%),diff:-3.44%;\n",
      "000665.SZ(-7.86%),127007.SZ(-4.07%),diff:-3.79%;\n",
      "002455.SZ(-3.68%),128093.SZ(-0.49%),diff:-3.19%;\n",
      "603901.SH(6.33%),113559.SH(0.47%),diff:5.86%;\n",
      "300568.SZ(10.00%),123009.SZ(20.21%),diff:-10.21%;\n",
      "cvbonds up ratio:4.88%\n"
     ]
    },
    {
     "name": "stderr",
     "output_type": "stream",
     "text": [
      "Request to send a text message to @@b8496be050681beab8aade80fc9857a33053cf96b3364a9896eda71765297c60: 2020-03-09 16:10:54.448681 update\n"
     ]
    },
    {
     "name": "stdout",
     "output_type": "stream",
     "text": [
      "2020-03-09 16:10:54.448681 update\n"
     ]
    },
    {
     "name": "stderr",
     "output_type": "stream",
     "text": [
      "Request to send a text message to @@b8496be050681beab8aade80fc9857a33053cf96b3364a9896eda71765297c60: 002368.SZ(-6.88%),128078.SZ(-2.73%),diff:-4.15%;\n",
      "300545.SZ(-9.72%),123038.SZ(-3.34%),diff:-6.38%;\n",
      "600567.SH(-5.82%),110047.SH(-2.37%),diff:-3.44%;\n",
      "000665.SZ(-7.86%),127007.SZ(-4.07%),diff:-3.79%;\n",
      "002455.SZ(-3.68%),128093.SZ(-0.49%),diff:-3.19%;\n",
      "603901.SH(6.33%),113559.SH(0.47%),diff:5.86%;\n",
      "300568.SZ(10.00%),123009.SZ(20.21%),diff:-10.21%;\n",
      "cvbonds up ratio:4.88%\n"
     ]
    },
    {
     "name": "stdout",
     "output_type": "stream",
     "text": [
      "002368.SZ(-6.88%),128078.SZ(-2.73%),diff:-4.15%;\n",
      "300545.SZ(-9.72%),123038.SZ(-3.34%),diff:-6.38%;\n",
      "600567.SH(-5.82%),110047.SH(-2.37%),diff:-3.44%;\n",
      "000665.SZ(-7.86%),127007.SZ(-4.07%),diff:-3.79%;\n",
      "002455.SZ(-3.68%),128093.SZ(-0.49%),diff:-3.19%;\n",
      "603901.SH(6.33%),113559.SH(0.47%),diff:5.86%;\n",
      "300568.SZ(10.00%),123009.SZ(20.21%),diff:-10.21%;\n",
      "cvbonds up ratio:4.88%\n"
     ]
    },
    {
     "name": "stderr",
     "output_type": "stream",
     "text": [
      "Request to send a text message to @@b8496be050681beab8aade80fc9857a33053cf96b3364a9896eda71765297c60: 2020-03-09 16:16:04.853526 update\n"
     ]
    },
    {
     "name": "stdout",
     "output_type": "stream",
     "text": [
      "2020-03-09 16:16:04.853526 update\n"
     ]
    },
    {
     "name": "stderr",
     "output_type": "stream",
     "text": [
      "Request to send a text message to @@b8496be050681beab8aade80fc9857a33053cf96b3364a9896eda71765297c60: 002368.SZ(-6.88%),128078.SZ(-2.73%),diff:-4.15%;\n",
      "300545.SZ(-9.72%),123038.SZ(-3.34%),diff:-6.38%;\n",
      "600567.SH(-5.82%),110047.SH(-2.37%),diff:-3.44%;\n",
      "000665.SZ(-7.86%),127007.SZ(-4.07%),diff:-3.79%;\n",
      "002455.SZ(-3.68%),128093.SZ(-0.49%),diff:-3.19%;\n",
      "603901.SH(6.33%),113559.SH(0.47%),diff:5.86%;\n",
      "300568.SZ(10.00%),123009.SZ(20.21%),diff:-10.21%;\n",
      "cvbonds up ratio:4.88%\n"
     ]
    },
    {
     "name": "stdout",
     "output_type": "stream",
     "text": [
      "002368.SZ(-6.88%),128078.SZ(-2.73%),diff:-4.15%;\n",
      "300545.SZ(-9.72%),123038.SZ(-3.34%),diff:-6.38%;\n",
      "600567.SH(-5.82%),110047.SH(-2.37%),diff:-3.44%;\n",
      "000665.SZ(-7.86%),127007.SZ(-4.07%),diff:-3.79%;\n",
      "002455.SZ(-3.68%),128093.SZ(-0.49%),diff:-3.19%;\n",
      "603901.SH(6.33%),113559.SH(0.47%),diff:5.86%;\n",
      "300568.SZ(10.00%),123009.SZ(20.21%),diff:-10.21%;\n",
      "cvbonds up ratio:4.88%\n"
     ]
    },
    {
     "name": "stderr",
     "output_type": "stream",
     "text": [
      "Request to send a text message to @@b8496be050681beab8aade80fc9857a33053cf96b3364a9896eda71765297c60: 2020-03-09 16:21:07.138789 update\n"
     ]
    },
    {
     "name": "stdout",
     "output_type": "stream",
     "text": [
      "2020-03-09 16:21:07.138789 update\n"
     ]
    },
    {
     "name": "stderr",
     "output_type": "stream",
     "text": [
      "Request to send a text message to @@b8496be050681beab8aade80fc9857a33053cf96b3364a9896eda71765297c60: 002368.SZ(-6.88%),128078.SZ(-2.73%),diff:-4.15%;\n",
      "300545.SZ(-9.72%),123038.SZ(-3.34%),diff:-6.38%;\n",
      "600567.SH(-5.82%),110047.SH(-2.37%),diff:-3.44%;\n",
      "000665.SZ(-7.86%),127007.SZ(-4.07%),diff:-3.79%;\n",
      "002455.SZ(-3.68%),128093.SZ(-0.49%),diff:-3.19%;\n",
      "603901.SH(6.33%),113559.SH(0.47%),diff:5.86%;\n",
      "300568.SZ(10.00%),123009.SZ(20.21%),diff:-10.21%;\n",
      "cvbonds up ratio:4.88%\n"
     ]
    },
    {
     "name": "stdout",
     "output_type": "stream",
     "text": [
      "002368.SZ(-6.88%),128078.SZ(-2.73%),diff:-4.15%;\n",
      "300545.SZ(-9.72%),123038.SZ(-3.34%),diff:-6.38%;\n",
      "600567.SH(-5.82%),110047.SH(-2.37%),diff:-3.44%;\n",
      "000665.SZ(-7.86%),127007.SZ(-4.07%),diff:-3.79%;\n",
      "002455.SZ(-3.68%),128093.SZ(-0.49%),diff:-3.19%;\n",
      "603901.SH(6.33%),113559.SH(0.47%),diff:5.86%;\n",
      "300568.SZ(10.00%),123009.SZ(20.21%),diff:-10.21%;\n",
      "cvbonds up ratio:4.88%\n"
     ]
    },
    {
     "name": "stderr",
     "output_type": "stream",
     "text": [
      "Request to send a text message to @@b8496be050681beab8aade80fc9857a33053cf96b3364a9896eda71765297c60: 2020-03-09 16:26:11.886483 update\n"
     ]
    },
    {
     "name": "stdout",
     "output_type": "stream",
     "text": [
      "2020-03-09 16:26:11.886483 update\n"
     ]
    },
    {
     "name": "stderr",
     "output_type": "stream",
     "text": [
      "Exception in thread Thread-46:\n",
      "Traceback (most recent call last):\n",
      "  File \"c:\\apps\\miniconda3\\lib\\site-packages\\urllib3\\connection.py\", line 159, in _new_conn\n",
      "    (self._dns_host, self.port), self.timeout, **extra_kw)\n",
      "  File \"c:\\apps\\miniconda3\\lib\\site-packages\\urllib3\\util\\connection.py\", line 80, in create_connection\n",
      "    raise err\n",
      "  File \"c:\\apps\\miniconda3\\lib\\site-packages\\urllib3\\util\\connection.py\", line 70, in create_connection\n",
      "    sock.connect(sa)\n",
      "TimeoutError: [WinError 10060] A connection attempt failed because the connected party did not properly respond after a period of time, or established connection failed because connected host has failed to respond\n",
      "\n",
      "During handling of the above exception, another exception occurred:\n",
      "\n",
      "Traceback (most recent call last):\n",
      "  File \"c:\\apps\\miniconda3\\lib\\site-packages\\urllib3\\connectionpool.py\", line 600, in urlopen\n",
      "    chunked=chunked)\n",
      "  File \"c:\\apps\\miniconda3\\lib\\site-packages\\urllib3\\connectionpool.py\", line 343, in _make_request\n",
      "    self._validate_conn(conn)\n",
      "  File \"c:\\apps\\miniconda3\\lib\\site-packages\\urllib3\\connectionpool.py\", line 839, in _validate_conn\n",
      "    conn.connect()\n",
      "  File \"c:\\apps\\miniconda3\\lib\\site-packages\\urllib3\\connection.py\", line 301, in connect\n",
      "    conn = self._new_conn()\n",
      "  File \"c:\\apps\\miniconda3\\lib\\site-packages\\urllib3\\connection.py\", line 168, in _new_conn\n",
      "    self, \"Failed to establish a new connection: %s\" % e)\n",
      "urllib3.exceptions.NewConnectionError: <urllib3.connection.VerifiedHTTPSConnection object at 0x000000000FB9F9B0>: Failed to establish a new connection: [WinError 10060] A connection attempt failed because the connected party did not properly respond after a period of time, or established connection failed because connected host has failed to respond\n",
      "\n",
      "During handling of the above exception, another exception occurred:\n",
      "\n",
      "Traceback (most recent call last):\n",
      "  File \"c:\\apps\\miniconda3\\lib\\site-packages\\requests\\adapters.py\", line 449, in send\n",
      "    timeout=timeout\n",
      "  File \"c:\\apps\\miniconda3\\lib\\site-packages\\urllib3\\connectionpool.py\", line 638, in urlopen\n",
      "    _stacktrace=sys.exc_info()[2])\n",
      "  File \"c:\\apps\\miniconda3\\lib\\site-packages\\urllib3\\util\\retry.py\", line 399, in increment\n",
      "    raise MaxRetryError(_pool, url, error or ResponseError(cause))\n",
      "urllib3.exceptions.MaxRetryError: HTTPSConnectionPool(host='wx.qq.com', port=443): Max retries exceeded with url: /cgi-bin/mmwebwx-bin/webwxsendmsg (Caused by NewConnectionError('<urllib3.connection.VerifiedHTTPSConnection object at 0x000000000FB9F9B0>: Failed to establish a new connection: [WinError 10060] A connection attempt failed because the connected party did not properly respond after a period of time, or established connection failed because connected host has failed to respond'))\n",
      "\n",
      "During handling of the above exception, another exception occurred:\n",
      "\n",
      "Traceback (most recent call last):\n",
      "  File \"c:\\apps\\miniconda3\\lib\\threading.py\", line 917, in _bootstrap_inner\n",
      "    self.run()\n",
      "  File \"c:\\apps\\miniconda3\\lib\\threading.py\", line 1166, in run\n",
      "    self.function(*self.args, **self.kwargs)\n",
      "  File \"<ipython-input-21-9529d41eca58>\", line 10, in send_msg\n",
      "    itchat.send(t,toUserName)\n",
      "  File \"c:\\apps\\miniconda3\\lib\\site-packages\\itchat\\components\\messages.py\", line 508, in send\n",
      "    r = self.send_msg(msg, toUserName)\n",
      "  File \"c:\\apps\\miniconda3\\lib\\site-packages\\itchat\\components\\messages.py\", line 279, in send_msg\n",
      "    r = self.send_raw_msg(1, msg, toUserName)\n",
      "  File \"c:\\apps\\miniconda3\\lib\\site-packages\\itchat\\components\\messages.py\", line 274, in send_raw_msg\n",
      "    data=json.dumps(data, ensure_ascii=False).encode('utf8'))\n",
      "  File \"c:\\apps\\miniconda3\\lib\\site-packages\\requests\\sessions.py\", line 581, in post\n",
      "    return self.request('POST', url, data=data, json=json, **kwargs)\n",
      "  File \"c:\\apps\\miniconda3\\lib\\site-packages\\requests\\sessions.py\", line 533, in request\n",
      "    resp = self.send(prep, **send_kwargs)\n",
      "  File \"c:\\apps\\miniconda3\\lib\\site-packages\\requests\\sessions.py\", line 646, in send\n",
      "    r = adapter.send(request, **kwargs)\n",
      "  File \"c:\\apps\\miniconda3\\lib\\site-packages\\requests\\adapters.py\", line 516, in send\n",
      "    raise ConnectionError(e, request=request)\n",
      "requests.exceptions.ConnectionError: HTTPSConnectionPool(host='wx.qq.com', port=443): Max retries exceeded with url: /cgi-bin/mmwebwx-bin/webwxsendmsg (Caused by NewConnectionError('<urllib3.connection.VerifiedHTTPSConnection object at 0x000000000FB9F9B0>: Failed to establish a new connection: [WinError 10060] A connection attempt failed because the connected party did not properly respond after a period of time, or established connection failed because connected host has failed to respond'))\n",
      "\n"
     ]
    }
   ],
   "source": [
    "itchat.logout()"
   ]
  },
  {
   "cell_type": "code",
   "execution_count": 34,
   "metadata": {},
   "outputs": [],
   "source": [
    "w.stop()"
   ]
  }
 ],
 "metadata": {
  "kernelspec": {
   "display_name": "Python 3",
   "language": "python",
   "name": "python3"
  },
  "language_info": {
   "codemirror_mode": {
    "name": "ipython",
    "version": 3
   },
   "file_extension": ".py",
   "mimetype": "text/x-python",
   "name": "python",
   "nbconvert_exporter": "python",
   "pygments_lexer": "ipython3",
   "version": "3.6.8"
  }
 },
 "nbformat": 4,
 "nbformat_minor": 2
}
